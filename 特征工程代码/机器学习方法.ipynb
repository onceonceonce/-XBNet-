{
 "cells": [
  {
   "cell_type": "code",
   "execution_count": 1,
   "id": "93354d03",
   "metadata": {},
   "outputs": [],
   "source": [
    "import matplotlib.pyplot as plt\n",
    "plt.rcParams['font.sans-serif'] = ['SimHei']  # 设置默认字体为黑体\n",
    "plt.rcParams['axes.unicode_minus'] = False  # 解决负号'-'显示为方块的问题\n",
    "\n",
    "import numpy as np\n",
    "import pandas as pd\n",
    "import seaborn as sns\n",
    "import matplotlib.pyplot as plt\n",
    "from itertools import product\n",
    "import warnings\n",
    "warnings.filterwarnings('ignore')\n",
    "import datetime as dt\n",
    "from sklearn.pipeline import Pipeline\n",
    "from sklearn.ensemble import AdaBoostClassifier\n",
    "from sklearn.ensemble import GradientBoostingClassifier\n",
    "from sklearn.model_selection import train_test_split,cross_validate,StratifiedKFold\n",
    "from sklearn.tree import DecisionTreeClassifier\n",
    "from sklearn.linear_model import LogisticRegression\n",
    "from sklearn.preprocessing import OneHotEncoder\n",
    "from sklearn.svm import SVC\n",
    "from sklearn.metrics import roc_curve # 绘制ROC曲线\n",
    "from sklearn.metrics import accuracy_score,roc_curve,roc_auc_score,f1_score,recall_score,precision_score\n",
    "import matplotlib.pyplot as plt\n",
    "%matplotlib inline\n"
   ]
  },
  {
   "cell_type": "code",
   "execution_count": 2,
   "id": "8022839c",
   "metadata": {},
   "outputs": [],
   "source": [
    "medicareDataNew = pd.read_csv(\"D:\\\\AI_Code\\\\Feature_Engineering\\\\medicareDataNew.csv\") #读取后来更新的文件\n"
   ]
  },
  {
   "cell_type": "code",
   "execution_count": 5,
   "id": "9b5adcf4",
   "metadata": {},
   "outputs": [
    {
     "data": {
      "text/plain": [
       "(array([3.52120e+14, 3.52121e+14, 3.52126e+14, 3.52128e+14]), 4)"
      ]
     },
     "execution_count": 5,
     "metadata": {},
     "output_type": "execute_result"
    }
   ],
   "source": [
    "medicareDataNew.iloc[:,0].unique(),medicareDataNew.iloc[:,0].nunique()"
   ]
  },
  {
   "cell_type": "markdown",
   "id": "53bad11b",
   "metadata": {},
   "source": [
    "### 寻找缺失值"
   ]
  },
  {
   "cell_type": "code",
   "execution_count": 7,
   "id": "b3cad5da",
   "metadata": {},
   "outputs": [],
   "source": [
    "df_columns_nan_count = medicareDataNew.isnull().sum()\n",
    "#会计算DataFrame中每一列缺失值的数量。返回的结果是一个Series，其中索引是列名，值是对应列中缺失值的数量。"
   ]
  },
  {
   "cell_type": "code",
   "execution_count": 8,
   "id": "96fd0b84",
   "metadata": {},
   "outputs": [],
   "source": [
    "df_nan_columns = []\n",
    "for index in range(len(df_columns_nan_count)):\n",
    "    if(df_columns_nan_count[index]!=0):\n",
    "        df_nan_columns.append(index)\n",
    "        "
   ]
  },
  {
   "cell_type": "code",
   "execution_count": 9,
   "id": "b2e87d8c",
   "metadata": {
    "editable": true,
    "slideshow": {
     "slide_type": ""
    },
    "tags": []
   },
   "outputs": [
    {
     "data": {
      "text/plain": [
       "[71]"
      ]
     },
     "execution_count": 9,
     "metadata": {},
     "output_type": "execute_result"
    }
   ],
   "source": [
    "df_nan_columns  #说明csv标的71个属性有空缺值"
   ]
  },
  {
   "cell_type": "code",
   "execution_count": 10,
   "id": "efc28707",
   "metadata": {},
   "outputs": [
    {
     "data": {
      "text/plain": [
       "0        29.0\n",
       "1        20.0\n",
       "2        29.0\n",
       "3        16.0\n",
       "4        33.0\n",
       "         ... \n",
       "15995    28.0\n",
       "15996    25.0\n",
       "15997    30.0\n",
       "15998     5.0\n",
       "15999    34.0\n",
       "Name: 出院诊断LENTH_MAX, Length: 16000, dtype: float64"
      ]
     },
     "execution_count": 10,
     "metadata": {},
     "output_type": "execute_result"
    }
   ],
   "source": [
    "medicareDataNew.iloc[:,71] #出院诊断LENTH_MAX有缺失值"
   ]
  },
  {
   "cell_type": "markdown",
   "id": "5de10f47",
   "metadata": {},
   "source": [
    "### 补全缺失值，定义函数"
   ]
  },
  {
   "cell_type": "code",
   "execution_count": 11,
   "id": "d92c19e7",
   "metadata": {},
   "outputs": [],
   "source": [
    "def fillna(fillMethod, df=None, val=0):\n",
    "    if df is None:\n",
    "        df = medicareDataNew.copy()\n",
    "        \n",
    "    temp_df = df.copy() #创建df的副本\n",
    "    \n",
    "    if fillMethod == \"solid\":\n",
    "        temp_df[\"出院诊断LENTH_MAX\"] = temp_df[\"出院诊断LENTH_MAX\"].fillna(val)\n",
    "    elif fillMethod == \"mean\":\n",
    "        temp_df[\"出院诊断LENTH_MAX\"] = temp_df[\"出院诊断LENTH_MAX\"].fillna(temp_df[\"出院诊断LENTH_MAX\"].mean())\n",
    "    elif fillMethod == \"mode\":\n",
    "        temp_df[\"出院诊断LENTH_MAX\"] = temp_df[\"出院诊断LENTH_MAX\"].fillna(temp_df[\"出院诊断LENTH_MAX\"].mode().iloc[0])  # mode() 返回一个 Series，需要取第一个值\n",
    "    elif fillMethod == \"forward_fill\":\n",
    "        temp_df[\"出院诊断LENTH_MAX\"] = temp_df[\"出院诊断LENTH_MAX\"].fillna(method='ffill')  # pad 是旧版pandas的用法，新版建议使用ffill\n",
    "    elif fillMethod == \"backward_fill\":\n",
    "        temp_df[\"出院诊断LENTH_MAX\"] = temp_df[\"出院诊断LENTH_MAX\"].fillna(method='bfill')\n",
    "    elif fillMethod == \"interpolate\":\n",
    "        temp_df[\"出院诊断LENTH_MAX\"] = temp_df[\"出院诊断LENTH_MAX\"].interpolate()\n",
    "    else:\n",
    "        raise ValueError(\"Invalid fill method specified\")\n",
    "\n",
    "    return temp_df\n",
    "    \n",
    "# interpolate() 是一个用于填充缺失值（NaN）的方法。\n",
    "# 它根据现有数据的线性、指数、时间序列或其他插值方法来估算缺失值，并填充到数据集中。\n",
    "# 导入 fancyimpute 库中的几个缺失值填充方法，包括BiScaler（双尺度标准化）、KNN（K-最近邻）\n",
    "# 、NuclearNormMinimization（最小化核范数）和SoftImpute（软奇异值分解填充）。\n",
    "#后面还有几种方法没用"
   ]
  },
  {
   "cell_type": "code",
   "execution_count": 12,
   "id": "aed66855",
   "metadata": {},
   "outputs": [
    {
     "data": {
      "text/plain": [
       "(22.0, nan)"
      ]
     },
     "execution_count": 12,
     "metadata": {},
     "output_type": "execute_result"
    }
   ],
   "source": [
    "fill_df = fillna('mode',medicareDataNew,5)\n",
    "fill_df['出院诊断LENTH_MAX'][120],medicareDataNew['出院诊断LENTH_MAX'][120]   #说明空缺值确实填上了"
   ]
  },
  {
   "cell_type": "markdown",
   "id": "a5473167",
   "metadata": {},
   "source": [
    "## 异常值处理，主要就是去除异常点，过采样，欠采样"
   ]
  },
  {
   "cell_type": "markdown",
   "id": "4f3f1c39",
   "metadata": {},
   "source": [
    "#### 局部离群因子（LOF，Local Outlier Factor）的异常点检测算法 结果发现一个都没检测出来"
   ]
  },
  {
   "cell_type": "code",
   "execution_count": 13,
   "id": "f6ca7e39",
   "metadata": {},
   "outputs": [
    {
     "name": "stdout",
     "output_type": "stream",
     "text": [
      "Empty DataFrame\n",
      "Columns: [个人编码, 一天去两家医院的天数, 就诊的月数, 月就诊天数_MAX, 月就诊天数_AVG, 月就诊医院数_MAX, 月就诊医院数_AVG, 就诊次数_SUM, 月就诊次数_MAX, 月就诊次数_AVG, 月统筹金额_MAX, 月统筹金额_AVG, 月药品金额_MAX, 月药品金额_AVG, 医院_就诊天数_MAX, 医院_就诊天数_AVG, 医院_统筹金_MAX, 医院_统筹金_AVG, 医院_药品_MAX, 医院_药品_AVG, 医院编码_NN, 顺序号_NN, 交易时间DD_NN, 交易时间YYYY_NN, 交易时间YYYYMM_NN, 住院天数_SUM, 个人账户金额_SUM, 统筹支付金额_SUM, ALL_SUM, 可用账户报销金额_SUM, 药品费发生金额_SUM, 药品费自费金额_SUM, 药品费申报金额_SUM, 贵重药品发生金额_SUM, 中成药费发生金额_SUM, 中草药费发生金额_SUM, 检查费发生金额_SUM, 检查费自费金额_SUM, 检查费申报金额_SUM, 贵重检查费金额_SUM, 治疗费发生金额_SUM, 治疗费自费金额_SUM, 治疗费申报金额_SUM, 手术费发生金额_SUM, 手术费自费金额_SUM, 手术费申报金额_SUM, 床位费发生金额_SUM, 床位费申报金额_SUM, 医用材料发生金额_SUM, 高价材料发生金额_SUM, 医用材料费自费金额_SUM, 成分输血申报金额_SUM, 其它发生金额_SUM, 其它申报金额_SUM, 一次性医用材料申报金额_SUM, 起付线标准金额_MAX, 起付标准以上自负比例金额_SUM, 医疗救助个人按比例负担金额_SUM, 最高限额以上金额_SUM, 基本统筹基金支付金额_SUM, 公务员医疗补助基金支付金额_SUM, 城乡救助补助金额_SUM, 基本个人账户支付_SUM, 非账户支付金额_SUM, 本次审批金额_SUM, 补助审批金额_SUM, 医疗救助医院申请_SUM, 残疾军人补助_SUM, 民政救助补助_SUM, 城乡优抚补助_SUM, 出院诊断病种名称_NN, 出院诊断LENTH_MAX, 药品在总金额中的占比, 个人支付的药品占比, 检查总费用在总金额占比, 个人支付检查费用占比, 治疗费用在总金额占比, 个人支付治疗费用占比, BZ_民政救助, BZ_城乡优抚, 是否挂号, RES, is_outlier]\n",
      "Index: []\n",
      "\n",
      "[0 rows x 83 columns]\n"
     ]
    }
   ],
   "source": [
    "from sklearn.neighbors import LocalOutlierFactor\n",
    "\n",
    "data = fill_df.values\n",
    "# 实例化LOF对象，n_neighbors表示计算局部密度时参考的邻居数量\n",
    "clf = LocalOutlierFactor(n_neighbors=20, contamination='auto')\n",
    "# 计算每个样本的LOF得分\n",
    "scores = clf.fit_predict(data)\n",
    "# scores中正值表示正常样本，-1表示异常样本\n",
    "outliers = (scores == -1)\n",
    "# 将异常点标识添加回原DataFrame\n",
    "fill_df['is_outlier'] = outliers\n",
    "# 输出异常点\n",
    "print(fill_df[fill_df['is_outlier']])\n",
    "\n",
    "# from collections import Counter\n",
    "# element_to_count = True\n",
    "# counter = Counter(outliers)\n",
    "# count = counter[element_to_count]\n",
    "# print(count)  0个"
   ]
  },
  {
   "cell_type": "markdown",
   "id": "758a2385",
   "metadata": {},
   "source": [
    "#### 马氏距离去除异常点  一共有800个异常点"
   ]
  },
  {
   "cell_type": "code",
   "execution_count": 14,
   "id": "9fb65fa8",
   "metadata": {},
   "outputs": [
    {
     "data": {
      "text/html": [
       "<div>\n",
       "<style scoped>\n",
       "    .dataframe tbody tr th:only-of-type {\n",
       "        vertical-align: middle;\n",
       "    }\n",
       "\n",
       "    .dataframe tbody tr th {\n",
       "        vertical-align: top;\n",
       "    }\n",
       "\n",
       "    .dataframe thead th {\n",
       "        text-align: right;\n",
       "    }\n",
       "</style>\n",
       "<table border=\"1\" class=\"dataframe\">\n",
       "  <thead>\n",
       "    <tr style=\"text-align: right;\">\n",
       "      <th></th>\n",
       "      <th>个人编码</th>\n",
       "      <th>一天去两家医院的天数</th>\n",
       "      <th>就诊的月数</th>\n",
       "      <th>月就诊天数_MAX</th>\n",
       "      <th>月就诊天数_AVG</th>\n",
       "      <th>月就诊医院数_MAX</th>\n",
       "      <th>月就诊医院数_AVG</th>\n",
       "      <th>就诊次数_SUM</th>\n",
       "      <th>月就诊次数_MAX</th>\n",
       "      <th>月就诊次数_AVG</th>\n",
       "      <th>...</th>\n",
       "      <th>个人支付的药品占比</th>\n",
       "      <th>检查总费用在总金额占比</th>\n",
       "      <th>个人支付检查费用占比</th>\n",
       "      <th>治疗费用在总金额占比</th>\n",
       "      <th>个人支付治疗费用占比</th>\n",
       "      <th>BZ_民政救助</th>\n",
       "      <th>BZ_城乡优抚</th>\n",
       "      <th>是否挂号</th>\n",
       "      <th>RES</th>\n",
       "      <th>is_outlier</th>\n",
       "    </tr>\n",
       "  </thead>\n",
       "  <tbody>\n",
       "    <tr>\n",
       "      <th>0</th>\n",
       "      <td>3.521200e+14</td>\n",
       "      <td>0</td>\n",
       "      <td>6</td>\n",
       "      <td>7</td>\n",
       "      <td>5.666667</td>\n",
       "      <td>3</td>\n",
       "      <td>2.166667</td>\n",
       "      <td>34</td>\n",
       "      <td>7</td>\n",
       "      <td>5.666667</td>\n",
       "      <td>...</td>\n",
       "      <td>4.262371e-03</td>\n",
       "      <td>0.050817</td>\n",
       "      <td>0.0</td>\n",
       "      <td>0.007434</td>\n",
       "      <td>0.0</td>\n",
       "      <td>0</td>\n",
       "      <td>0</td>\n",
       "      <td>1</td>\n",
       "      <td>0</td>\n",
       "      <td>False</td>\n",
       "    </tr>\n",
       "    <tr>\n",
       "      <th>1</th>\n",
       "      <td>3.521200e+14</td>\n",
       "      <td>0</td>\n",
       "      <td>6</td>\n",
       "      <td>4</td>\n",
       "      <td>2.500000</td>\n",
       "      <td>2</td>\n",
       "      <td>1.333333</td>\n",
       "      <td>15</td>\n",
       "      <td>4</td>\n",
       "      <td>2.500000</td>\n",
       "      <td>...</td>\n",
       "      <td>2.981609e-03</td>\n",
       "      <td>0.030815</td>\n",
       "      <td>0.0</td>\n",
       "      <td>0.013398</td>\n",
       "      <td>0.0</td>\n",
       "      <td>0</td>\n",
       "      <td>0</td>\n",
       "      <td>1</td>\n",
       "      <td>0</td>\n",
       "      <td>False</td>\n",
       "    </tr>\n",
       "    <tr>\n",
       "      <th>2</th>\n",
       "      <td>3.521200e+14</td>\n",
       "      <td>8</td>\n",
       "      <td>6</td>\n",
       "      <td>8</td>\n",
       "      <td>6.166667</td>\n",
       "      <td>3</td>\n",
       "      <td>2.166667</td>\n",
       "      <td>45</td>\n",
       "      <td>9</td>\n",
       "      <td>7.500000</td>\n",
       "      <td>...</td>\n",
       "      <td>3.321330e-04</td>\n",
       "      <td>0.000000</td>\n",
       "      <td>0.0</td>\n",
       "      <td>0.195087</td>\n",
       "      <td>0.0</td>\n",
       "      <td>0</td>\n",
       "      <td>0</td>\n",
       "      <td>0</td>\n",
       "      <td>0</td>\n",
       "      <td>False</td>\n",
       "    </tr>\n",
       "    <tr>\n",
       "      <th>3</th>\n",
       "      <td>3.521200e+14</td>\n",
       "      <td>0</td>\n",
       "      <td>6</td>\n",
       "      <td>6</td>\n",
       "      <td>3.666667</td>\n",
       "      <td>2</td>\n",
       "      <td>1.833333</td>\n",
       "      <td>23</td>\n",
       "      <td>6</td>\n",
       "      <td>3.833333</td>\n",
       "      <td>...</td>\n",
       "      <td>1.843500e-04</td>\n",
       "      <td>0.000000</td>\n",
       "      <td>0.0</td>\n",
       "      <td>0.541351</td>\n",
       "      <td>0.0</td>\n",
       "      <td>0</td>\n",
       "      <td>0</td>\n",
       "      <td>0</td>\n",
       "      <td>0</td>\n",
       "      <td>False</td>\n",
       "    </tr>\n",
       "    <tr>\n",
       "      <th>4</th>\n",
       "      <td>3.521200e+14</td>\n",
       "      <td>0</td>\n",
       "      <td>6</td>\n",
       "      <td>5</td>\n",
       "      <td>4.333333</td>\n",
       "      <td>1</td>\n",
       "      <td>1.000000</td>\n",
       "      <td>26</td>\n",
       "      <td>5</td>\n",
       "      <td>4.333333</td>\n",
       "      <td>...</td>\n",
       "      <td>3.163870e-04</td>\n",
       "      <td>0.000000</td>\n",
       "      <td>0.0</td>\n",
       "      <td>0.016274</td>\n",
       "      <td>0.0</td>\n",
       "      <td>0</td>\n",
       "      <td>0</td>\n",
       "      <td>0</td>\n",
       "      <td>0</td>\n",
       "      <td>False</td>\n",
       "    </tr>\n",
       "    <tr>\n",
       "      <th>...</th>\n",
       "      <td>...</td>\n",
       "      <td>...</td>\n",
       "      <td>...</td>\n",
       "      <td>...</td>\n",
       "      <td>...</td>\n",
       "      <td>...</td>\n",
       "      <td>...</td>\n",
       "      <td>...</td>\n",
       "      <td>...</td>\n",
       "      <td>...</td>\n",
       "      <td>...</td>\n",
       "      <td>...</td>\n",
       "      <td>...</td>\n",
       "      <td>...</td>\n",
       "      <td>...</td>\n",
       "      <td>...</td>\n",
       "      <td>...</td>\n",
       "      <td>...</td>\n",
       "      <td>...</td>\n",
       "      <td>...</td>\n",
       "      <td>...</td>\n",
       "    </tr>\n",
       "    <tr>\n",
       "      <th>15995</th>\n",
       "      <td>3.521280e+14</td>\n",
       "      <td>0</td>\n",
       "      <td>6</td>\n",
       "      <td>8</td>\n",
       "      <td>6.500000</td>\n",
       "      <td>3</td>\n",
       "      <td>3.000000</td>\n",
       "      <td>40</td>\n",
       "      <td>8</td>\n",
       "      <td>6.666667</td>\n",
       "      <td>...</td>\n",
       "      <td>5.260850e-04</td>\n",
       "      <td>0.000000</td>\n",
       "      <td>0.0</td>\n",
       "      <td>0.013326</td>\n",
       "      <td>0.0</td>\n",
       "      <td>0</td>\n",
       "      <td>0</td>\n",
       "      <td>1</td>\n",
       "      <td>0</td>\n",
       "      <td>False</td>\n",
       "    </tr>\n",
       "    <tr>\n",
       "      <th>15996</th>\n",
       "      <td>3.521280e+14</td>\n",
       "      <td>0</td>\n",
       "      <td>6</td>\n",
       "      <td>8</td>\n",
       "      <td>6.833333</td>\n",
       "      <td>2</td>\n",
       "      <td>2.000000</td>\n",
       "      <td>42</td>\n",
       "      <td>9</td>\n",
       "      <td>7.000000</td>\n",
       "      <td>...</td>\n",
       "      <td>6.890000e-05</td>\n",
       "      <td>0.008665</td>\n",
       "      <td>0.0</td>\n",
       "      <td>0.039553</td>\n",
       "      <td>0.0</td>\n",
       "      <td>1</td>\n",
       "      <td>0</td>\n",
       "      <td>0</td>\n",
       "      <td>0</td>\n",
       "      <td>False</td>\n",
       "    </tr>\n",
       "    <tr>\n",
       "      <th>15997</th>\n",
       "      <td>3.521280e+14</td>\n",
       "      <td>4</td>\n",
       "      <td>6</td>\n",
       "      <td>8</td>\n",
       "      <td>6.333333</td>\n",
       "      <td>2</td>\n",
       "      <td>2.000000</td>\n",
       "      <td>42</td>\n",
       "      <td>9</td>\n",
       "      <td>7.000000</td>\n",
       "      <td>...</td>\n",
       "      <td>6.738972e-03</td>\n",
       "      <td>0.002232</td>\n",
       "      <td>1.0</td>\n",
       "      <td>0.223888</td>\n",
       "      <td>0.0</td>\n",
       "      <td>0</td>\n",
       "      <td>0</td>\n",
       "      <td>1</td>\n",
       "      <td>0</td>\n",
       "      <td>False</td>\n",
       "    </tr>\n",
       "    <tr>\n",
       "      <th>15998</th>\n",
       "      <td>3.521280e+14</td>\n",
       "      <td>0</td>\n",
       "      <td>6</td>\n",
       "      <td>5</td>\n",
       "      <td>3.333333</td>\n",
       "      <td>1</td>\n",
       "      <td>1.000000</td>\n",
       "      <td>20</td>\n",
       "      <td>5</td>\n",
       "      <td>3.333333</td>\n",
       "      <td>...</td>\n",
       "      <td>7.680000e-07</td>\n",
       "      <td>0.025627</td>\n",
       "      <td>0.0</td>\n",
       "      <td>0.006425</td>\n",
       "      <td>0.0</td>\n",
       "      <td>0</td>\n",
       "      <td>0</td>\n",
       "      <td>0</td>\n",
       "      <td>0</td>\n",
       "      <td>False</td>\n",
       "    </tr>\n",
       "    <tr>\n",
       "      <th>15999</th>\n",
       "      <td>3.521280e+14</td>\n",
       "      <td>7</td>\n",
       "      <td>6</td>\n",
       "      <td>13</td>\n",
       "      <td>10.166667</td>\n",
       "      <td>5</td>\n",
       "      <td>3.833333</td>\n",
       "      <td>68</td>\n",
       "      <td>16</td>\n",
       "      <td>11.333333</td>\n",
       "      <td>...</td>\n",
       "      <td>3.814840e-04</td>\n",
       "      <td>0.008389</td>\n",
       "      <td>0.0</td>\n",
       "      <td>0.083951</td>\n",
       "      <td>0.0</td>\n",
       "      <td>0</td>\n",
       "      <td>0</td>\n",
       "      <td>0</td>\n",
       "      <td>1</td>\n",
       "      <td>False</td>\n",
       "    </tr>\n",
       "  </tbody>\n",
       "</table>\n",
       "<p>15200 rows × 83 columns</p>\n",
       "</div>"
      ],
      "text/plain": [
       "               个人编码  一天去两家医院的天数  就诊的月数  月就诊天数_MAX  月就诊天数_AVG  月就诊医院数_MAX  \\\n",
       "0      3.521200e+14           0      6          7   5.666667           3   \n",
       "1      3.521200e+14           0      6          4   2.500000           2   \n",
       "2      3.521200e+14           8      6          8   6.166667           3   \n",
       "3      3.521200e+14           0      6          6   3.666667           2   \n",
       "4      3.521200e+14           0      6          5   4.333333           1   \n",
       "...             ...         ...    ...        ...        ...         ...   \n",
       "15995  3.521280e+14           0      6          8   6.500000           3   \n",
       "15996  3.521280e+14           0      6          8   6.833333           2   \n",
       "15997  3.521280e+14           4      6          8   6.333333           2   \n",
       "15998  3.521280e+14           0      6          5   3.333333           1   \n",
       "15999  3.521280e+14           7      6         13  10.166667           5   \n",
       "\n",
       "       月就诊医院数_AVG  就诊次数_SUM  月就诊次数_MAX  月就诊次数_AVG  ...     个人支付的药品占比  \\\n",
       "0        2.166667        34          7   5.666667  ...  4.262371e-03   \n",
       "1        1.333333        15          4   2.500000  ...  2.981609e-03   \n",
       "2        2.166667        45          9   7.500000  ...  3.321330e-04   \n",
       "3        1.833333        23          6   3.833333  ...  1.843500e-04   \n",
       "4        1.000000        26          5   4.333333  ...  3.163870e-04   \n",
       "...           ...       ...        ...        ...  ...           ...   \n",
       "15995    3.000000        40          8   6.666667  ...  5.260850e-04   \n",
       "15996    2.000000        42          9   7.000000  ...  6.890000e-05   \n",
       "15997    2.000000        42          9   7.000000  ...  6.738972e-03   \n",
       "15998    1.000000        20          5   3.333333  ...  7.680000e-07   \n",
       "15999    3.833333        68         16  11.333333  ...  3.814840e-04   \n",
       "\n",
       "       检查总费用在总金额占比  个人支付检查费用占比  治疗费用在总金额占比  个人支付治疗费用占比  BZ_民政救助  BZ_城乡优抚  \\\n",
       "0         0.050817         0.0    0.007434         0.0        0        0   \n",
       "1         0.030815         0.0    0.013398         0.0        0        0   \n",
       "2         0.000000         0.0    0.195087         0.0        0        0   \n",
       "3         0.000000         0.0    0.541351         0.0        0        0   \n",
       "4         0.000000         0.0    0.016274         0.0        0        0   \n",
       "...            ...         ...         ...         ...      ...      ...   \n",
       "15995     0.000000         0.0    0.013326         0.0        0        0   \n",
       "15996     0.008665         0.0    0.039553         0.0        1        0   \n",
       "15997     0.002232         1.0    0.223888         0.0        0        0   \n",
       "15998     0.025627         0.0    0.006425         0.0        0        0   \n",
       "15999     0.008389         0.0    0.083951         0.0        0        0   \n",
       "\n",
       "       是否挂号  RES  is_outlier  \n",
       "0         1    0       False  \n",
       "1         1    0       False  \n",
       "2         0    0       False  \n",
       "3         0    0       False  \n",
       "4         0    0       False  \n",
       "...     ...  ...         ...  \n",
       "15995     1    0       False  \n",
       "15996     0    0       False  \n",
       "15997     1    0       False  \n",
       "15998     0    0       False  \n",
       "15999     0    1       False  \n",
       "\n",
       "[15200 rows x 83 columns]"
      ]
     },
     "execution_count": 14,
     "metadata": {},
     "output_type": "execute_result"
    }
   ],
   "source": [
    "from scipy.spatial.distance import mahalanobis\n",
    "from sklearn.covariance import EmpiricalCovariance\n",
    "from sklearn.preprocessing import StandardScaler\n",
    "\n",
    "# 假设 df 是你的 DataFrame，且只包含数值型特征\n",
    "numerical_df = fill_df.select_dtypes(include=[np.number])\n",
    "\n",
    "# 首先对数据进行标准化，以便更好地计算协方差矩阵\n",
    "scaler = StandardScaler()\n",
    "scaled_df = scaler.fit_transform(numerical_df)\n",
    "\n",
    "# 计算均值向量和协方差矩阵\n",
    "cov_estimator = EmpiricalCovariance()\n",
    "cov_matrix = cov_estimator.fit(scaled_df).covariance_\n",
    "mean_vector = scaled_df.mean(axis=0)\n",
    "\n",
    "# 计算每个样本的马氏距离\n",
    "mahalanobis_distances = []\n",
    "\n",
    "for i in range(scaled_df.shape[0]):\n",
    "    sample = scaled_df[i, :]  # 直接获取一维子数组\n",
    "    mahalanobis_distance = mahalanobis(sample, mean_vector, cov_matrix)\n",
    "    mahalanobis_distances.append(mahalanobis_distance)\n",
    "\n",
    "# 将计算出的马氏距离转换为 Series\n",
    "mahalanobis_distances = pd.Series(mahalanobis_distances, index=numerical_df.index)\n",
    "\n",
    "# 继续后面的代码，例如设定阈值和标记异常点\n",
    "threshold = np.percentile(mahalanobis_distances, 95)\n",
    "is_outlier = mahalanobis_distances > threshold\n",
    "\n",
    "# # 更新原始 DataFrame 中的一列来记录是否为异常点\n",
    "fill_df['is_outlier'] = is_outlier\n",
    "\n",
    "fill_df[fill_df['is_outlier']==False]  #is_outlier表示是正常点"
   ]
  },
  {
   "cell_type": "markdown",
   "id": "84718769",
   "metadata": {},
   "source": [
    "### 连续型特征处理"
   ]
  },
  {
   "cell_type": "markdown",
   "id": "261379e4",
   "metadata": {},
   "source": [
    "使用sklearn库标准化数据"
   ]
  },
  {
   "cell_type": "code",
   "execution_count": 16,
   "id": "0e10181c",
   "metadata": {},
   "outputs": [],
   "source": [
    "\n",
    "from sklearn.preprocessing import StandardScaler\n",
    "from sklearn.preprocessing import Normalizer\n",
    "from sklearn.preprocessing import MinMaxScaler\n",
    "\n",
    "def fit_transform_data(method,df):\n",
    "    df_array = df.values\n",
    "#     columns = df.columns.tolist()\n",
    "    if method=='StandardScaler':\n",
    "        scaler = StandardScaler()\n",
    "        scaler_data = scaler.fit_transform(df_array)\n",
    "        return scaler_data\n",
    "    elif method=='Normalizer':\n",
    "        scaler = Normalizer()\n",
    "        scaler_data = scaler.fit_transform(df_array)\n",
    "        return scaler_data\n",
    "    elif method=='MinMaxScaler':\n",
    "        scaler = MinMaxScaler()\n",
    "        scaler_data = scaler.fit_transform(df_array)\n",
    "        return scaler_data\n",
    "\n",
    "    \n",
    "# transform_array_data = fit_transform_data('StandardScaler',fill_df) \n",
    "# transform_array_data\n",
    "# #标准化，返回值为标准化后的数据\n",
    "# StandardScaler().fit_transform(iris.data)\n",
    "# #归一化，返回值为归一化后的数据\n",
    "# Normalizer().fit_transform(iris.data)\n",
    "# #区间缩放，返回值为缩放到[0, 1]区间的数据\n",
    "# MinMaxScaler().fit_transform(iris.data)\n",
    "# 压缩范围\n",
    "# 有些分类变量的少部分取值可能占据了90%的case，这种情况下可以采用预测模型、领域专家、或者简单的频率分布统计。\n",
    "# 具体问题具体分析，高频和低频都是需要特别处理的地方，抛弃效果不好时，可以考虑采样（高频）或上采样（低频），。"
   ]
  },
  {
   "cell_type": "markdown",
   "id": "6d1fba22",
   "metadata": {},
   "source": [
    "#### 定义训练模型的函数"
   ]
  },
  {
   "cell_type": "code",
   "execution_count": 18,
   "id": "17347fc1",
   "metadata": {},
   "outputs": [],
   "source": [
    "prob_result = []\n",
    "clfs_fited = []\n",
    "\n",
    "def train_models(X_train,y_train,X_valid,y_valid,clf):\n",
    "    pipe = Pipeline([\n",
    "        ('scaler',StandardScaler()),\n",
    "        ('clf',clf),\n",
    "    ])\n",
    "    print(\"%s: \"%clf.__class__.__name__)\n",
    "    pipe.fit(X_train,y_train)\n",
    "    clf = pipe.named_steps['clf']# 得到相应的分类器\n",
    "    clfs_fited.append(clf)  # 收集分类器\n",
    "    y_pred = clf.predict(X_valid)\n",
    "    fraud_prob = clf.predict_proba(X_valid)[:,1]  # 1 表示欺诈\n",
    "    prob_result.append(fraud_prob)  #添加验证集欺诈概率\n",
    "    m = confusion_matrix(y_valid,y_pred)  #混淆矩阵\n",
    "    #     使用 brier_score_loss 函数计算验证集中每个样本对应的预测概率与真实标签之间的Brier得分损失，\n",
    "    #     并将结果存储在变量 clf_score 中。值越小越好\n",
    "#     clf_score = brier_score_loss(y_valid,fraud_prob,pos_label=y_valid.max())\n",
    "    clf_score = brier_score_loss(y_valid,y_pred)\n",
    "    print(\"\\tBrier: %1.5f\" % (clf_score))#特别是在二分类或多分类问题中，它可以评估模型预测的类别概率分布与实际观测到的标签之间的差距。\n",
    "    print(\"\\tPrecision: %1.5f\" % precision_score(y_valid, y_pred)) #精确率是指预测为正类的样本中实际为正类的比例，\n",
    "    print(\"\\tRecall: %1.5f\" % recall_score(y_valid, y_pred))  #召回率是指实际为正类的样本中被正确预测出来的比例，\n",
    "    print(\"\\tF1: %1.5f\" % f1_score(y_valid, y_pred))  #F1分数是精确率（Precision）和召回率（Recall）的调和平均数，能够较好地反映模型在正类样本上的综合表现。\n",
    "#     它计算的是ROC曲线下的面积（AUC, Area Under the Curve）。\n",
    "#     ROC曲线描绘了真正率（True Positive Rate, TPR）与假正率（False Positive Rate, FPR）之间的关系。\n",
    "#     真正率（TPR, Recall）：被正确预测为正类的样本数占所有实际为正类样本数的比例。\n",
    "#     假正率（FPR）：被错误预测为正类但实际上为负类的样本数占所有实际为负类样本数的比例。\n",
    "#     值越大越好\n",
    "    print(\"\\tauc: %1.5f\" % roc_auc_score(y_valid, fraud_prob))\n",
    "#      模型预测结果与真实标签之间的正确匹配率。简单来说，它是正确预测样本数占总样本数的比例。\n",
    "#     某些时候并不准确，需要考虑更精细的指标\n",
    "    print(\"\\tAccuracy: %1.5f\\n\" % accuracy_score(y_valid, y_pred))\n",
    "\n",
    "#主要看precision 精度"
   ]
  },
  {
   "cell_type": "markdown",
   "id": "39f290f6",
   "metadata": {},
   "source": [
    "下一步每个功能先写好函数，然后统一调用\n",
    "然后分别不同数据训练模型，结合马氏距离，\n",
    "下面PCA也是如此"
   ]
  },
  {
   "cell_type": "markdown",
   "id": "47238977",
   "metadata": {},
   "source": [
    "### 定义训练函数，训练分类模型"
   ]
  },
  {
   "cell_type": "code",
   "execution_count": 19,
   "id": "e82aa147",
   "metadata": {},
   "outputs": [],
   "source": [
    "def train_classfication_models(X_train,y_train,X_valid,y_valid,clfs):\n",
    "    for clf in clfs:\n",
    "        train_model(X_train,y_train,X_valid,y_valid,clf)\n",
    "        print(\"\\n\")"
   ]
  },
  {
   "cell_type": "code",
   "execution_count": 20,
   "id": "b74de1fe",
   "metadata": {},
   "outputs": [],
   "source": [
    "from sklearn.naive_bayes import GaussianNB\n",
    "from sklearn.ensemble import ExtraTreesClassifier\n",
    "from sklearn.linear_model import LogisticRegression \n",
    "from sklearn import ensemble \n",
    "from sklearn.ensemble import RandomForestClassifier \n",
    "from sklearn.metrics import brier_score_loss, precision_score, recall_score,f1_score, roc_auc_score, accuracy_score \n",
    "from sklearn.metrics import confusion_matrix, roc_curve\n",
    "from sklearn.model_selection import train_test_split\n",
    "from sklearn.preprocessing import StandardScaler \n",
    "from sklearn.feature_extraction import DictVectorizer\n",
    "from sklearn.cluster import KMeans\n",
    "import random\n",
    "from scipy.stats import ttest_ind"
   ]
  },
  {
   "cell_type": "code",
   "execution_count": 21,
   "id": "77dcd698",
   "metadata": {},
   "outputs": [
    {
     "data": {
      "text/plain": [
       "(24, 24)"
      ]
     },
     "execution_count": 21,
     "metadata": {},
     "output_type": "execute_result"
    }
   ],
   "source": [
    "important_columns_first = ['基本统筹基金支付金额_SUM','本次审批金额_SUM','药品费申报金额_SUM','药品费发生金额_SUM',\n",
    "                     '月药品金额_MAX','月统筹金额_AVG','治疗费申报金额_SUM','ALL_SUM']\n",
    "# 月药品金额_MAX(医院_药品_MAX和这个差不多，要稍微差一点)\n",
    "\n",
    "important_columns_second = ['统筹支付金额_SUM','月就诊次数_MAX','就诊次数_SUM','起付标准以上自负比例金额_SUM',\n",
    "                            '可用账户报销金额_SUM','非账户支付金额_SUM','医院_统筹金_AVG',\n",
    "                            '月就诊天数_MAX','月就诊天数_AVG','月统筹金额_MAX']\n",
    "important_columns_third = ['医院_统筹金_MAX','贵重药品发生金额_SUM','医疗救助个人按比例负担金额_SUM',\n",
    "                           '医疗救助医院申请_SUM','个人账户金额_SUM','一天去两家医院的天数']\n",
    "\n",
    "important_columns_total = important_columns_first + important_columns_second + important_columns_third\n",
    "\n",
    "len(important_columns_total),len(list(set(important_columns_total)))\n",
    "\n",
    "# 列出得到的重要的特征"
   ]
  },
  {
   "cell_type": "code",
   "execution_count": 22,
   "id": "0e0b52c5-2aaf-4372-8ef0-0157e9dfb3ff",
   "metadata": {},
   "outputs": [
    {
     "data": {
      "text/html": [
       "<div>\n",
       "<style scoped>\n",
       "    .dataframe tbody tr th:only-of-type {\n",
       "        vertical-align: middle;\n",
       "    }\n",
       "\n",
       "    .dataframe tbody tr th {\n",
       "        vertical-align: top;\n",
       "    }\n",
       "\n",
       "    .dataframe thead th {\n",
       "        text-align: right;\n",
       "    }\n",
       "</style>\n",
       "<table border=\"1\" class=\"dataframe\">\n",
       "  <thead>\n",
       "    <tr style=\"text-align: right;\">\n",
       "      <th></th>\n",
       "      <th>基本统筹基金支付金额_SUM</th>\n",
       "      <th>本次审批金额_SUM</th>\n",
       "      <th>药品费申报金额_SUM</th>\n",
       "      <th>药品费发生金额_SUM</th>\n",
       "      <th>月药品金额_MAX</th>\n",
       "      <th>月统筹金额_AVG</th>\n",
       "      <th>治疗费申报金额_SUM</th>\n",
       "      <th>ALL_SUM</th>\n",
       "      <th>统筹支付金额_SUM</th>\n",
       "      <th>月就诊次数_MAX</th>\n",
       "      <th>...</th>\n",
       "      <th>医院_统筹金_AVG</th>\n",
       "      <th>月就诊天数_MAX</th>\n",
       "      <th>月就诊天数_AVG</th>\n",
       "      <th>月统筹金额_MAX</th>\n",
       "      <th>医院_统筹金_MAX</th>\n",
       "      <th>贵重药品发生金额_SUM</th>\n",
       "      <th>医疗救助个人按比例负担金额_SUM</th>\n",
       "      <th>医疗救助医院申请_SUM</th>\n",
       "      <th>个人账户金额_SUM</th>\n",
       "      <th>一天去两家医院的天数</th>\n",
       "    </tr>\n",
       "  </thead>\n",
       "  <tbody>\n",
       "    <tr>\n",
       "      <th>0</th>\n",
       "      <td>15247.76</td>\n",
       "      <td>16942.04</td>\n",
       "      <td>15929.04</td>\n",
       "      <td>16171.75</td>\n",
       "      <td>3901.45</td>\n",
       "      <td>2541.293333</td>\n",
       "      <td>128.0</td>\n",
       "      <td>17218.75</td>\n",
       "      <td>15247.76</td>\n",
       "      <td>7</td>\n",
       "      <td>...</td>\n",
       "      <td>5082.586667</td>\n",
       "      <td>7</td>\n",
       "      <td>5.666667</td>\n",
       "      <td>3501.18</td>\n",
       "      <td>7553.00</td>\n",
       "      <td>1984.60</td>\n",
       "      <td>0.0</td>\n",
       "      <td>0.0</td>\n",
       "      <td>1970.99</td>\n",
       "      <td>0</td>\n",
       "    </tr>\n",
       "    <tr>\n",
       "      <th>1</th>\n",
       "      <td>9824.15</td>\n",
       "      <td>10915.75</td>\n",
       "      <td>10418.95</td>\n",
       "      <td>10698.92</td>\n",
       "      <td>2449.13</td>\n",
       "      <td>1637.358333</td>\n",
       "      <td>150.0</td>\n",
       "      <td>11195.72</td>\n",
       "      <td>9824.15</td>\n",
       "      <td>4</td>\n",
       "      <td>...</td>\n",
       "      <td>4912.075000</td>\n",
       "      <td>4</td>\n",
       "      <td>2.500000</td>\n",
       "      <td>2217.66</td>\n",
       "      <td>9500.07</td>\n",
       "      <td>2264.73</td>\n",
       "      <td>0.0</td>\n",
       "      <td>0.0</td>\n",
       "      <td>1371.57</td>\n",
       "      <td>0</td>\n",
       "    </tr>\n",
       "    <tr>\n",
       "      <th>2</th>\n",
       "      <td>15498.32</td>\n",
       "      <td>17840.03</td>\n",
       "      <td>13926.88</td>\n",
       "      <td>14211.17</td>\n",
       "      <td>3302.06</td>\n",
       "      <td>2583.053333</td>\n",
       "      <td>3538.0</td>\n",
       "      <td>18135.52</td>\n",
       "      <td>15498.32</td>\n",
       "      <td>9</td>\n",
       "      <td>...</td>\n",
       "      <td>5166.106667</td>\n",
       "      <td>8</td>\n",
       "      <td>6.166667</td>\n",
       "      <td>3360.55</td>\n",
       "      <td>9161.73</td>\n",
       "      <td>0.00</td>\n",
       "      <td>0.0</td>\n",
       "      <td>0.0</td>\n",
       "      <td>2637.20</td>\n",
       "      <td>8</td>\n",
       "    </tr>\n",
       "    <tr>\n",
       "      <th>3</th>\n",
       "      <td>12346.32</td>\n",
       "      <td>13718.22</td>\n",
       "      <td>6291.22</td>\n",
       "      <td>6292.38</td>\n",
       "      <td>1500.12</td>\n",
       "      <td>2057.720000</td>\n",
       "      <td>7427.0</td>\n",
       "      <td>13719.38</td>\n",
       "      <td>12346.32</td>\n",
       "      <td>6</td>\n",
       "      <td>...</td>\n",
       "      <td>6173.160000</td>\n",
       "      <td>6</td>\n",
       "      <td>3.666667</td>\n",
       "      <td>3030.61</td>\n",
       "      <td>11622.17</td>\n",
       "      <td>0.00</td>\n",
       "      <td>0.0</td>\n",
       "      <td>0.0</td>\n",
       "      <td>1373.06</td>\n",
       "      <td>0</td>\n",
       "    </tr>\n",
       "    <tr>\n",
       "      <th>4</th>\n",
       "      <td>13177.89</td>\n",
       "      <td>14642.13</td>\n",
       "      <td>14402.13</td>\n",
       "      <td>14507.54</td>\n",
       "      <td>2563.26</td>\n",
       "      <td>2196.315000</td>\n",
       "      <td>240.0</td>\n",
       "      <td>14747.54</td>\n",
       "      <td>13177.89</td>\n",
       "      <td>5</td>\n",
       "      <td>...</td>\n",
       "      <td>13177.890000</td>\n",
       "      <td>5</td>\n",
       "      <td>4.333333</td>\n",
       "      <td>2332.45</td>\n",
       "      <td>13177.89</td>\n",
       "      <td>2367.68</td>\n",
       "      <td>0.0</td>\n",
       "      <td>0.0</td>\n",
       "      <td>1569.65</td>\n",
       "      <td>0</td>\n",
       "    </tr>\n",
       "    <tr>\n",
       "      <th>...</th>\n",
       "      <td>...</td>\n",
       "      <td>...</td>\n",
       "      <td>...</td>\n",
       "      <td>...</td>\n",
       "      <td>...</td>\n",
       "      <td>...</td>\n",
       "      <td>...</td>\n",
       "      <td>...</td>\n",
       "      <td>...</td>\n",
       "      <td>...</td>\n",
       "      <td>...</td>\n",
       "      <td>...</td>\n",
       "      <td>...</td>\n",
       "      <td>...</td>\n",
       "      <td>...</td>\n",
       "      <td>...</td>\n",
       "      <td>...</td>\n",
       "      <td>...</td>\n",
       "      <td>...</td>\n",
       "      <td>...</td>\n",
       "      <td>...</td>\n",
       "    </tr>\n",
       "    <tr>\n",
       "      <th>15995</th>\n",
       "      <td>12837.08</td>\n",
       "      <td>14263.44</td>\n",
       "      <td>14072.44</td>\n",
       "      <td>14142.21</td>\n",
       "      <td>3121.72</td>\n",
       "      <td>2139.513333</td>\n",
       "      <td>191.0</td>\n",
       "      <td>14333.21</td>\n",
       "      <td>12837.08</td>\n",
       "      <td>8</td>\n",
       "      <td>...</td>\n",
       "      <td>4279.026667</td>\n",
       "      <td>8</td>\n",
       "      <td>6.500000</td>\n",
       "      <td>2831.13</td>\n",
       "      <td>7094.15</td>\n",
       "      <td>1246.72</td>\n",
       "      <td>0.0</td>\n",
       "      <td>0.0</td>\n",
       "      <td>1496.13</td>\n",
       "      <td>0</td>\n",
       "    </tr>\n",
       "    <tr>\n",
       "      <th>15996</th>\n",
       "      <td>10196.33</td>\n",
       "      <td>11995.70</td>\n",
       "      <td>11123.80</td>\n",
       "      <td>11179.38</td>\n",
       "      <td>2133.65</td>\n",
       "      <td>2070.225000</td>\n",
       "      <td>477.0</td>\n",
       "      <td>12059.68</td>\n",
       "      <td>12421.35</td>\n",
       "      <td>9</td>\n",
       "      <td>...</td>\n",
       "      <td>6210.675000</td>\n",
       "      <td>8</td>\n",
       "      <td>6.833333</td>\n",
       "      <td>2369.03</td>\n",
       "      <td>9697.88</td>\n",
       "      <td>1391.84</td>\n",
       "      <td>0.0</td>\n",
       "      <td>0.0</td>\n",
       "      <td>750.84</td>\n",
       "      <td>0</td>\n",
       "    </tr>\n",
       "    <tr>\n",
       "      <th>15997</th>\n",
       "      <td>23854.12</td>\n",
       "      <td>26504.62</td>\n",
       "      <td>20486.62</td>\n",
       "      <td>20789.52</td>\n",
       "      <td>4897.23</td>\n",
       "      <td>3975.686667</td>\n",
       "      <td>6018.0</td>\n",
       "      <td>26879.52</td>\n",
       "      <td>23854.12</td>\n",
       "      <td>9</td>\n",
       "      <td>...</td>\n",
       "      <td>11927.060000</td>\n",
       "      <td>8</td>\n",
       "      <td>6.333333</td>\n",
       "      <td>5421.56</td>\n",
       "      <td>12453.45</td>\n",
       "      <td>0.00</td>\n",
       "      <td>0.0</td>\n",
       "      <td>0.0</td>\n",
       "      <td>3025.40</td>\n",
       "      <td>4</td>\n",
       "    </tr>\n",
       "    <tr>\n",
       "      <th>15998</th>\n",
       "      <td>22266.53</td>\n",
       "      <td>24766.48</td>\n",
       "      <td>23928.78</td>\n",
       "      <td>26037.31</td>\n",
       "      <td>6289.22</td>\n",
       "      <td>3711.088333</td>\n",
       "      <td>173.0</td>\n",
       "      <td>26924.61</td>\n",
       "      <td>22266.53</td>\n",
       "      <td>5</td>\n",
       "      <td>...</td>\n",
       "      <td>22266.530000</td>\n",
       "      <td>5</td>\n",
       "      <td>3.333333</td>\n",
       "      <td>5270.74</td>\n",
       "      <td>22266.53</td>\n",
       "      <td>21084.46</td>\n",
       "      <td>0.0</td>\n",
       "      <td>0.0</td>\n",
       "      <td>4658.08</td>\n",
       "      <td>0</td>\n",
       "    </tr>\n",
       "    <tr>\n",
       "      <th>15999</th>\n",
       "      <td>25876.21</td>\n",
       "      <td>30720.16</td>\n",
       "      <td>27172.52</td>\n",
       "      <td>27445.47</td>\n",
       "      <td>7689.76</td>\n",
       "      <td>4312.701667</td>\n",
       "      <td>2602.0</td>\n",
       "      <td>30994.31</td>\n",
       "      <td>25876.21</td>\n",
       "      <td>16</td>\n",
       "      <td>...</td>\n",
       "      <td>4312.701667</td>\n",
       "      <td>13</td>\n",
       "      <td>10.166667</td>\n",
       "      <td>7262.37</td>\n",
       "      <td>8227.94</td>\n",
       "      <td>2071.02</td>\n",
       "      <td>0.0</td>\n",
       "      <td>0.0</td>\n",
       "      <td>5118.10</td>\n",
       "      <td>7</td>\n",
       "    </tr>\n",
       "  </tbody>\n",
       "</table>\n",
       "<p>16000 rows × 24 columns</p>\n",
       "</div>"
      ],
      "text/plain": [
       "       基本统筹基金支付金额_SUM  本次审批金额_SUM  药品费申报金额_SUM  药品费发生金额_SUM  月药品金额_MAX  \\\n",
       "0            15247.76    16942.04     15929.04     16171.75    3901.45   \n",
       "1             9824.15    10915.75     10418.95     10698.92    2449.13   \n",
       "2            15498.32    17840.03     13926.88     14211.17    3302.06   \n",
       "3            12346.32    13718.22      6291.22      6292.38    1500.12   \n",
       "4            13177.89    14642.13     14402.13     14507.54    2563.26   \n",
       "...               ...         ...          ...          ...        ...   \n",
       "15995        12837.08    14263.44     14072.44     14142.21    3121.72   \n",
       "15996        10196.33    11995.70     11123.80     11179.38    2133.65   \n",
       "15997        23854.12    26504.62     20486.62     20789.52    4897.23   \n",
       "15998        22266.53    24766.48     23928.78     26037.31    6289.22   \n",
       "15999        25876.21    30720.16     27172.52     27445.47    7689.76   \n",
       "\n",
       "         月统筹金额_AVG  治疗费申报金额_SUM   ALL_SUM  统筹支付金额_SUM  月就诊次数_MAX  ...  \\\n",
       "0      2541.293333        128.0  17218.75    15247.76          7  ...   \n",
       "1      1637.358333        150.0  11195.72     9824.15          4  ...   \n",
       "2      2583.053333       3538.0  18135.52    15498.32          9  ...   \n",
       "3      2057.720000       7427.0  13719.38    12346.32          6  ...   \n",
       "4      2196.315000        240.0  14747.54    13177.89          5  ...   \n",
       "...            ...          ...       ...         ...        ...  ...   \n",
       "15995  2139.513333        191.0  14333.21    12837.08          8  ...   \n",
       "15996  2070.225000        477.0  12059.68    12421.35          9  ...   \n",
       "15997  3975.686667       6018.0  26879.52    23854.12          9  ...   \n",
       "15998  3711.088333        173.0  26924.61    22266.53          5  ...   \n",
       "15999  4312.701667       2602.0  30994.31    25876.21         16  ...   \n",
       "\n",
       "         医院_统筹金_AVG  月就诊天数_MAX  月就诊天数_AVG  月统筹金额_MAX  医院_统筹金_MAX  \\\n",
       "0       5082.586667          7   5.666667    3501.18     7553.00   \n",
       "1       4912.075000          4   2.500000    2217.66     9500.07   \n",
       "2       5166.106667          8   6.166667    3360.55     9161.73   \n",
       "3       6173.160000          6   3.666667    3030.61    11622.17   \n",
       "4      13177.890000          5   4.333333    2332.45    13177.89   \n",
       "...             ...        ...        ...        ...         ...   \n",
       "15995   4279.026667          8   6.500000    2831.13     7094.15   \n",
       "15996   6210.675000          8   6.833333    2369.03     9697.88   \n",
       "15997  11927.060000          8   6.333333    5421.56    12453.45   \n",
       "15998  22266.530000          5   3.333333    5270.74    22266.53   \n",
       "15999   4312.701667         13  10.166667    7262.37     8227.94   \n",
       "\n",
       "       贵重药品发生金额_SUM  医疗救助个人按比例负担金额_SUM  医疗救助医院申请_SUM  个人账户金额_SUM  一天去两家医院的天数  \n",
       "0           1984.60                0.0           0.0     1970.99           0  \n",
       "1           2264.73                0.0           0.0     1371.57           0  \n",
       "2              0.00                0.0           0.0     2637.20           8  \n",
       "3              0.00                0.0           0.0     1373.06           0  \n",
       "4           2367.68                0.0           0.0     1569.65           0  \n",
       "...             ...                ...           ...         ...         ...  \n",
       "15995       1246.72                0.0           0.0     1496.13           0  \n",
       "15996       1391.84                0.0           0.0      750.84           0  \n",
       "15997          0.00                0.0           0.0     3025.40           4  \n",
       "15998      21084.46                0.0           0.0     4658.08           0  \n",
       "15999       2071.02                0.0           0.0     5118.10           7  \n",
       "\n",
       "[16000 rows x 24 columns]"
      ]
     },
     "execution_count": 22,
     "metadata": {},
     "output_type": "execute_result"
    }
   ],
   "source": [
    "fill_df\n",
    "fill_df.loc[:,important_columns_total]\n",
    "# fill_df.iloc[:,-1]"
   ]
  },
  {
   "cell_type": "code",
   "execution_count": 23,
   "id": "6fe64a10",
   "metadata": {},
   "outputs": [],
   "source": [
    "#切分数据\n",
    "X_train,X_valid,y_train,y_valid = train_test_split(fill_df.loc[:,important_columns_first].values,fill_df.iloc[:,-1].values,test_size=0.2,random_state=666)\n",
    "# fill_df.iloc[:,-2]  RES"
   ]
  },
  {
   "cell_type": "code",
   "execution_count": 24,
   "id": "b9784734",
   "metadata": {},
   "outputs": [
    {
     "name": "stdout",
     "output_type": "stream",
     "text": [
      "LogisticRegression: \n",
      "\tBrier: 0.95531\n",
      "\tPrecision: 0.04469\n",
      "\tRecall: 1.00000\n",
      "\tF1: 0.08555\n",
      "\tauc: 0.50000\n",
      "\tAccuracy: 0.04469\n",
      "\n"
     ]
    }
   ],
   "source": [
    "log_clf = LogisticRegression(C=1e5,class_weight='balanced',n_jobs=-1) \n",
    "train_models(X_train,y_train,X_valid,y_valid,log_clf)"
   ]
  },
  {
   "cell_type": "code",
   "execution_count": 25,
   "id": "58cc0ccd",
   "metadata": {},
   "outputs": [
    {
     "name": "stdout",
     "output_type": "stream",
     "text": [
      "GaussianNB: \n",
      "\tBrier: 0.95531\n",
      "\tPrecision: 0.04469\n",
      "\tRecall: 1.00000\n",
      "\tF1: 0.08555\n",
      "\tauc: 0.50000\n",
      "\tAccuracy: 0.04469\n",
      "\n"
     ]
    }
   ],
   "source": [
    "Ganssian_clf = GaussianNB()\n",
    "train_models(X_train,y_train,X_valid,y_valid,Ganssian_clf)"
   ]
  },
  {
   "cell_type": "code",
   "execution_count": 26,
   "id": "c2ca1cfa-fd6a-447d-8ab4-cfb210564de7",
   "metadata": {},
   "outputs": [],
   "source": [
    "# #贝叶斯朴素分类器不标准化数据\n",
    "# gauss1_clf = GaussianNB()\n",
    "# gauss1_clf = gauss1_clf.fit(X_train,y_train)\n",
    "# gauss1_pred = gauss1_clf.predict(X_valid)\n",
    "# gauss1_prob = gauss1_clf.predict_proba(X_valid)[:,1]\n",
    "\n",
    "\n",
    "# print(\"\\tBrier: %1.5f\" % (brier_score_loss(y_valid,gauss1_pred)))\n",
    "# print(\"\\tPrecision: %1.5f\" % precision_score(y_valid, gauss1_pred)) \n",
    "# print(\"\\tRecall: %1.5f\" % recall_score(y_valid, gauss1_pred))  \n",
    "# print(\"\\tF1: %1.5f\" % f1_score(y_valid, gauss1_pred)) \n",
    "# print(\"\\tauc: %1.5f\" % roc_auc_score(y_valid, gauss1_prob))\n",
    "# print(\"\\tAccuracy: %1.5f\\n\" % accuracy_score(y_valid, gauss1_pred))\n"
   ]
  },
  {
   "cell_type": "code",
   "execution_count": 27,
   "id": "4959d70d",
   "metadata": {},
   "outputs": [
    {
     "name": "stdout",
     "output_type": "stream",
     "text": [
      "RandomForestClassifier: \n",
      "\tBrier: 0.95531\n",
      "\tPrecision: 0.04469\n",
      "\tRecall: 1.00000\n",
      "\tF1: 0.08555\n",
      "\tauc: 0.49353\n",
      "\tAccuracy: 0.04469\n",
      "\n"
     ]
    }
   ],
   "source": [
    "randforest_clf = RandomForestClassifier(n_estimators=300,max_depth=10,min_samples_split=5,class_weight='balanced')\n",
    "train_models(X_train,y_train,X_valid,y_valid,randforest_clf)"
   ]
  },
  {
   "cell_type": "code",
   "execution_count": 28,
   "id": "825e41a7",
   "metadata": {},
   "outputs": [
    {
     "name": "stdout",
     "output_type": "stream",
     "text": [
      "ExtraTreesClassifier: \n",
      "\tBrier: 0.95531\n",
      "\tPrecision: 0.04469\n",
      "\tRecall: 1.00000\n",
      "\tF1: 0.08555\n",
      "\tauc: 0.49943\n",
      "\tAccuracy: 0.04469\n",
      "\n"
     ]
    }
   ],
   "source": [
    "extratree_clf = ExtraTreesClassifier(n_estimators=300,max_depth=10,min_samples_split=5,class_weight='balanced')\n",
    "train_models(X_train,y_train,X_valid,y_valid,extratree_clf)"
   ]
  },
  {
   "cell_type": "code",
   "execution_count": 29,
   "id": "23f4dd6e-6f03-4fbd-81f2-30d441486beb",
   "metadata": {},
   "outputs": [],
   "source": [
    "# #随机森岭变体不标准化数据\n",
    "# extraTree_clf = ExtraTreesClassifier()\n",
    "# extraTree_clf = extraTree_clf.fit(X_train,y_train)\n",
    "# extraTree_pred = extraTree_clf.predict(X_valid)\n",
    "# extraTree_prob = extraTree_clf.predict_proba(X_valid)[:,1]\n",
    "\n",
    "# print(\"\\tBrier: %1.5f\" % (brier_score_loss(y_valid,extraTree_pred)))\n",
    "# print(\"\\tPrecision: %1.5f\" % precision_score(y_valid, extraTree_pred)) \n",
    "# print(\"\\tRecall: %1.5f\" % recall_score(y_valid, extraTree_pred))  \n",
    "# print(\"\\tF1: %1.5f\" % f1_score(y_valid, extraTree_pred)) \n",
    "# print(\"\\tauc: %1.5f\" % roc_auc_score(y_valid, extraTree_prob))\n",
    "# print(\"\\tAccuracy: %1.5f\\n\" % accuracy_score(y_valid, extraTree_pred))\n"
   ]
  },
  {
   "cell_type": "code",
   "execution_count": 30,
   "id": "488ce310",
   "metadata": {},
   "outputs": [
    {
     "name": "stdout",
     "output_type": "stream",
     "text": [
      "GradientBoostingClassifier: \n",
      "\tBrier: 0.95531\n",
      "\tPrecision: 0.04469\n",
      "\tRecall: 1.00000\n",
      "\tF1: 0.08555\n",
      "\tauc: 0.49651\n",
      "\tAccuracy: 0.04469\n",
      "\n"
     ]
    }
   ],
   "source": [
    "gradientBoost_clf = GradientBoostingClassifier(n_estimators=100,max_depth=8,min_samples_split=4,learning_rate=0.01)\n",
    "\n",
    "train_models(X_train,y_train,X_valid,y_valid,gradientBoost_clf)"
   ]
  },
  {
   "cell_type": "code",
   "execution_count": 32,
   "id": "91e40950",
   "metadata": {},
   "outputs": [
    {
     "name": "stdout",
     "output_type": "stream",
     "text": [
      "Validation Accuracy: 0.9900\n"
     ]
    }
   ],
   "source": [
    "import xgboost as xgb\n",
    "xgb_clf_important = xgb.XGBClassifier(objective='binary:logistic',  # 根据问题类型选择目标函数\n",
    "                        n_estimators=300,  # 树的数量（提升次数）\n",
    "                        max_depth=5,  # 树的最大深度\n",
    "                        learning_rate=0.1,  # 学习率\n",
    "                        # 其他参数...\n",
    "                        )\n",
    "                    \n",
    "# 使用训练集训练模型\n",
    "xgb_clf_important.fit(X_train, y_train)\n",
    "\n",
    "# 对验证集进行预测\n",
    "y_pred_valid = xgb_clf_important.predict(X_valid)\n",
    "\n",
    "# 计算验证集上的准确率\n",
    "accuracy_valid_important = accuracy_score(y_valid, y_pred_valid)\n",
    "print(\"Validation Accuracy: {:.4f}\".format(accuracy_valid_important ))"
   ]
  },
  {
   "cell_type": "markdown",
   "id": "fc681693",
   "metadata": {},
   "source": [
    "## 特征交叉 通过用十几个特征来训练模型，发现准确率还会降低，所以试试特征交叉构造"
   ]
  },
  {
   "cell_type": "code",
   "execution_count": 33,
   "id": "34d36619",
   "metadata": {},
   "outputs": [],
   "source": [
    "fill_df_importantcolumns = fill_df.loc[:,important_columns_total]\n",
    "# 对于简单的特征交叉，可以使用 pandas 的 `apply` 函数配合 lambda 表达式\n",
    "fill_df_importantcolumns['药品费申报/本次审批'] = fill_df_importantcolumns['药品费申报金额_SUM']/fill_df_importantcolumns['本次审批金额_SUM']\n",
    "\n",
    "fill_df_importantcolumns['统筹支付/月统筹金额_MAX'] = fill_df_importantcolumns['统筹支付金额_SUM']/fill_df_importantcolumns['月统筹金额_MAX']\n",
    "\n",
    "fill_df_importantcolumns['起付标准以上自负比例/药品费申报金额_SUM'] = fill_df_importantcolumns['起付标准以上自负比例金额_SUM']/fill_df_importantcolumns['药品费申报金额_SUM']\n",
    "\n",
    "fill_df_importantcolumns['月就诊次数_MAX/月统筹金额_AVG'] = fill_df_importantcolumns['月就诊次数_MAX']*fill_df_importantcolumns['月统筹金额_AVG']\n",
    "\n",
    "fill_df_importantcolumns['月就诊次数_MAX/统筹支付金额_SUM'] = fill_df_importantcolumns['月就诊次数_MAX']/fill_df_importantcolumns['统筹支付金额_SUM']\n",
    "\n",
    "fill_df_importantcolumns['药品费申报金额_SUM/治疗费申报金额_SUM'] = fill_df_importantcolumns['药品费申报金额_SUM']/fill_df_importantcolumns['治疗费申报金额_SUM']\n",
    "\n",
    "fill_df_importantcolumns['药品费发生金额_SUM/药品费申报金额_SUM'] = fill_df_importantcolumns['药品费发生金额_SUM']/fill_df_importantcolumns['药品费申报金额_SUM']\n",
    "\n",
    "# fill_df_importantcolumns['起付标准以上自负比例/药品费申报金额_SUM'] = fill_df_importantcolumns['起付标准以上自负比例金额_SUM']/fill_df_importantcolumns['药品费申报金额_SUM']\n",
    "\n"
   ]
  },
  {
   "cell_type": "markdown",
   "id": "0f85e44a",
   "metadata": {},
   "source": [
    "#### 使用构造之后的特征和构造之前的特征，训练模型,有可能出现无穷大，空值等情况"
   ]
  },
  {
   "cell_type": "code",
   "execution_count": 34,
   "id": "32d42370",
   "metadata": {},
   "outputs": [],
   "source": [
    "fill_df_importantcolumns.replace([np.inf, -np.inf], np.nan, inplace=True)\n",
    "fill_df_importantcolumns.fillna(fill_df_importantcolumns.mode().iloc[0], inplace=True)  # 以均值填充缺失值"
   ]
  },
  {
   "cell_type": "code",
   "execution_count": 35,
   "id": "5850eec6",
   "metadata": {},
   "outputs": [],
   "source": [
    "X_train_create1,X_valid_create1,y_train_create1,y_valid_create1 = train_test_split(fill_df_importantcolumns.values,fill_df.iloc[:,-2].values,test_size=0.2,random_state=2)\n"
   ]
  },
  {
   "cell_type": "markdown",
   "id": "6b090dcf",
   "metadata": {},
   "source": [
    "#### 交叉特征和原特征一起训练模型，效果也还好"
   ]
  },
  {
   "cell_type": "code",
   "execution_count": 36,
   "id": "d61a5e3b",
   "metadata": {},
   "outputs": [
    {
     "name": "stdout",
     "output_type": "stream",
     "text": [
      "Validation Accuracy: 0.9597\n"
     ]
    }
   ],
   "source": [
    "import xgboost as xgb\n",
    "xgb_clf_create1 = xgb.XGBClassifier(objective='binary:logistic',  # 根据问题类型选择目标函数\n",
    "                        n_estimators=300,  # 树的数量（提升次数）\n",
    "                        max_depth=10,  # 树的最大深度\n",
    "                        learning_rate=0.1,  # 学习率\n",
    "                        # 其他参数...\n",
    "                        )\n",
    "                    \n",
    "# 使用训练集训练模型\n",
    "xgb_clf_create1.fit(X_train_create1, y_train_create1)\n",
    "\n",
    "# 对验证集进行预测\n",
    "y_pred_valid = xgb_clf_create1.predict(X_valid_create1)\n",
    "\n",
    "# 计算验证集上的准确率\n",
    "accuracy_valid_create1 = accuracy_score(y_valid_create1, y_pred_valid)\n",
    "print(\"Validation Accuracy: {:.4f}\".format(accuracy_valid_create1 ))"
   ]
  },
  {
   "cell_type": "code",
   "execution_count": 37,
   "id": "d2deb4fd",
   "metadata": {},
   "outputs": [
    {
     "name": "stdout",
     "output_type": "stream",
     "text": [
      "GradientBoostingClassifier: \n",
      "\tBrier: 0.05500\n",
      "\tPrecision: 0.00000\n",
      "\tRecall: 0.00000\n",
      "\tF1: 0.00000\n",
      "\tauc: 0.42732\n",
      "\tAccuracy: 0.94500\n",
      "\n"
     ]
    }
   ],
   "source": [
    "gradientBoost_clf_create1 = GradientBoostingClassifier(n_estimators=100,max_depth=8,min_samples_split=4,learning_rate=0.01)\n",
    "\n",
    "train_models(X_train_create1,y_train_create1,X_valid_create1,y_valid_create1,gradientBoost_clf_create1)"
   ]
  },
  {
   "cell_type": "markdown",
   "id": "30ccdf18",
   "metadata": {},
   "source": [
    "#### 只使用交叉特征,效果也一般，不是很理想"
   ]
  },
  {
   "cell_type": "code",
   "execution_count": 38,
   "id": "5e102259",
   "metadata": {},
   "outputs": [],
   "source": [
    "X_train_create2,X_valid_create2,y_train_create2,y_valid_create2 = train_test_split(fill_df_importantcolumns.drop(columns=important_columns_total,inplace=False).values,fill_df.iloc[:,-2].values,test_size=0.2,random_state=2)\n"
   ]
  },
  {
   "cell_type": "code",
   "execution_count": 39,
   "id": "a4ca3865",
   "metadata": {
    "editable": true,
    "slideshow": {
     "slide_type": ""
    },
    "tags": []
   },
   "outputs": [
    {
     "name": "stdout",
     "output_type": "stream",
     "text": [
      "Validation Accuracy: 0.9556\n"
     ]
    }
   ],
   "source": [
    "import xgboost as xgb\n",
    "xgb_clf_create2 = xgb.XGBClassifier(objective='binary:logistic',  # 根据问题类型选择目标函数\n",
    "                        n_estimators=300,  # 树的数量（提升次数）\n",
    "                        max_depth=10,  # 树的最大深度\n",
    "                        learning_rate=0.1,  # 学习率\n",
    "                        # 其他参数...\n",
    "                        )\n",
    "                    \n",
    "# 使用训练集训练模型\n",
    "xgb_clf_create2.fit(X_train_create2, y_train_create2)\n",
    "\n",
    "# 对验证集进行预测\n",
    "y_pred_valid = xgb_clf_create2.predict(X_valid_create2)\n",
    "\n",
    "# 计算验证集上的准确率\n",
    "accuracy_valid_create2 = accuracy_score(y_valid_create2, y_pred_valid)\n",
    "print(\"Validation Accuracy: {:.4f}\".format(accuracy_valid_create2 ))"
   ]
  },
  {
   "cell_type": "code",
   "execution_count": 40,
   "id": "81b50bac",
   "metadata": {},
   "outputs": [
    {
     "name": "stdout",
     "output_type": "stream",
     "text": [
      "GradientBoostingClassifier: \n",
      "\tBrier: 0.05969\n",
      "\tPrecision: 0.10000\n",
      "\tRecall: 0.01143\n",
      "\tF1: 0.02051\n",
      "\tauc: 0.59882\n",
      "\tAccuracy: 0.94031\n",
      "\n"
     ]
    }
   ],
   "source": [
    "gradientBoost_clf_create2 = GradientBoostingClassifier(n_estimators=100,max_depth=8,min_samples_split=4,learning_rate=0.01)\n",
    "\n",
    "train_models(X_train_create2,y_train_create2,X_valid_create2,y_valid_create2,gradientBoost_clf_create2)"
   ]
  },
  {
   "cell_type": "code",
   "execution_count": 41,
   "id": "37aa1690",
   "metadata": {
    "editable": true,
    "slideshow": {
     "slide_type": ""
    },
    "tags": []
   },
   "outputs": [
    {
     "name": "stdout",
     "output_type": "stream",
     "text": [
      "Accuracy:0.829375\n"
     ]
    }
   ],
   "source": [
    "log_clf_create2 = LogisticRegression(C=1e5,class_weight='balanced',n_jobs=-1) \n",
    "\n",
    "log_clf_create2.fit(X_train_create2,y_train_create2)\n",
    "y_log_pred = log_clf_create2.predict(X_valid_create2)\n",
    "accuracy_valid = accuracy_score(y_log_pred,y_valid_create2)\n",
    "print(f\"Accuracy:{accuracy_valid}\")"
   ]
  },
  {
   "cell_type": "code",
   "execution_count": 42,
   "id": "5d257ed9",
   "metadata": {},
   "outputs": [
    {
     "name": "stdout",
     "output_type": "stream",
     "text": [
      "RandomForestClassifier: \n",
      "\tBrier: 0.05719\n",
      "\tPrecision: 0.00000\n",
      "\tRecall: 0.00000\n",
      "\tF1: 0.00000\n",
      "\tauc: 0.58929\n",
      "\tAccuracy: 0.94281\n",
      "\n"
     ]
    }
   ],
   "source": [
    "randforest_clf_create2 = RandomForestClassifier(n_estimators=500,max_depth=10,min_samples_split=5,class_weight='balanced')\n",
    "\n",
    "train_models(X_train_create2,y_train_create2,X_valid_create2,y_valid_create2,randforest_clf_create2)"
   ]
  },
  {
   "cell_type": "markdown",
   "id": "58c0843c",
   "metadata": {},
   "source": [
    "# 特征提取，特征降维"
   ]
  },
  {
   "cell_type": "markdown",
   "id": "cce585e8",
   "metadata": {},
   "source": [
    "#### PCA主成分分析,总的来说，特征也多，准确率越高，想办法把特征数降下来"
   ]
  },
  {
   "cell_type": "code",
   "execution_count": 43,
   "id": "28a71509",
   "metadata": {},
   "outputs": [],
   "source": [
    "import xgboost as xgb\n",
    "def xgboost_accuracy(X_train,y_train,X_valid,y_valid):\n",
    "    xgb_clf = xgb.XGBClassifier(objective='binary:logistic',  # 根据问题类型选择目标函数\n",
    "                        n_estimators=300,  # 树的数量（提升次数）\n",
    "                        max_depth=5,  # 树的最大深度\n",
    "                        learning_rate=0.1,  # 学习率\n",
    "                        # 其他参数...\n",
    ")\n",
    "                    \n",
    "    # 使用训练集训练模型\n",
    "    xgb_clf.fit(X_train, y_train)\n",
    "\n",
    "    # 对验证集进行预测\n",
    "    y_pred_valid = xgb_clf.predict(X_valid)\n",
    "\n",
    "    # 计算验证集上的准确率\n",
    "    accuracy_valid = accuracy_score(y_valid, y_pred_valid)\n",
    "    return accuracy_valid\n"
   ]
  },
  {
   "cell_type": "code",
   "execution_count": 44,
   "id": "9bf74763-68a7-456a-b51f-0d673cc1ac42",
   "metadata": {},
   "outputs": [],
   "source": [
    "# fill_df.shape"
   ]
  },
  {
   "cell_type": "code",
   "execution_count": 45,
   "id": "b2d995ba",
   "metadata": {},
   "outputs": [],
   "source": [
    "n_components = []\n",
    "accuracy_rates = []\n",
    "#先切分数据集\n",
    "# X_train_pca,X_valid_pca,y_train_pca,y_valid_pca = train_test_split(fill_df.loc[:,important_columns_first+important_columns_second].values,fill_df.iloc[:,-1].values,test_size=0.2,random_state=666)\n",
    "\n",
    "x_data = StandardScaler().fit_transform(fill_df.loc[:,important_columns_total])\n",
    "X_train_pca,X_valid_pca,y_train_pca,y_valid_pca = train_test_split(x_data,fill_df.iloc[:,-1].values,test_size=0.2,random_state=666)\n",
    "\n",
    "from sklearn.decomposition import PCA\n",
    "\n",
    "def plot_components_accuracy():\n",
    "    for n_component in range(2,24):\n",
    "        #先拟合数据，得到降维参数，指标\n",
    "        pca_clf = PCA(n_components=n_component).fit(X_train_pca)\n",
    "        X_train_pca_after = pca_clf.transform(X_train_pca)\n",
    "        X_valid_pca_after = pca_clf.transform(X_valid_pca)\n",
    "        \n",
    "        #训练模型，得到准确率\n",
    "        pca_accuracy = xgboost_accuracy(X_train_pca_after,y_train_pca,X_valid_pca_after,y_valid_pca)\n",
    "        #添加准确率\n",
    "        n_components.append(n_component)\n",
    "        accuracy_rates.append(pca_accuracy)\n",
    "        \n",
    "#主成分分析法，返回降维后的数据\n",
    "#参数n_components为主成分数目\n"
   ]
  },
  {
   "cell_type": "code",
   "execution_count": 47,
   "id": "1d44aa38",
   "metadata": {},
   "outputs": [],
   "source": [
    "plot_components_accuracy()"
   ]
  },
  {
   "cell_type": "code",
   "execution_count": 107,
   "id": "a7d41ceb-f460-4b44-b7b8-6517d3965c9a",
   "metadata": {},
   "outputs": [
    {
     "data": {
      "text/plain": [
       "[0.9575,\n",
       " 0.958125,\n",
       " 0.95875,\n",
       " 0.95875,\n",
       " 0.9603125,\n",
       " 0.9628125,\n",
       " 0.9628125,\n",
       " 0.9634375,\n",
       " 0.963125,\n",
       " 0.96375,\n",
       " 0.9634375,\n",
       " 0.9621875,\n",
       " 0.9634375,\n",
       " 0.96375,\n",
       " 0.964375,\n",
       " 0.96375,\n",
       " 0.9640625,\n",
       " 0.96375,\n",
       " 0.96375,\n",
       " 0.965,\n",
       " 0.964375,\n",
       " 0.9634375]"
      ]
     },
     "execution_count": 107,
     "metadata": {},
     "output_type": "execute_result"
    }
   ],
   "source": [
    "accuracy_rates"
   ]
  },
  {
   "cell_type": "code",
   "execution_count": 108,
   "id": "8dc9439e",
   "metadata": {},
   "outputs": [
    {
     "data": {
      "text/plain": [
       "(0.965, 21)"
      ]
     },
     "execution_count": 108,
     "metadata": {},
     "output_type": "execute_result"
    }
   ],
   "source": [
    "max(accuracy_rates),accuracy_rates.index(max(accuracy_rates))+2"
   ]
  },
  {
   "cell_type": "code",
   "execution_count": 109,
   "id": "54f10e2a",
   "metadata": {},
   "outputs": [
    {
     "data": {
      "text/plain": [
       "Text(0, 0.5, '模型准确率')"
      ]
     },
     "execution_count": 109,
     "metadata": {},
     "output_type": "execute_result"
    },
    {
     "data": {
      "image/png": "[encoded data removed]",
      "text/plain": [
       "<Figure size 1000x500 with 1 Axes>"
      ]
     },
     "metadata": {},
     "output_type": "display_data"
    }
   ],
   "source": [
    "plt.figure(figsize=(10,5))\n",
    "plt.plot(n_components,accuracy_rates)\n",
    "plt.title(\"PCA主成分数目-模型准确率\")\n",
    "plt.xlabel(\"PCA主成分数目\")\n",
    "plt.ylabel(\"模型准确率\")\n"
   ]
  },
  {
   "cell_type": "markdown",
   "id": "b7927cbb-61f9-4f94-87da-58007adbeb98",
   "metadata": {},
   "source": [
    "## 使用PCA结合smote"
   ]
  },
  {
   "cell_type": "code",
   "execution_count": 10,
   "id": "92143a90-c710-477c-83d4-162684adced3",
   "metadata": {},
   "outputs": [],
   "source": [
    "# fill_df.to_csv(\"./fill_df.csv\",index=False)   \n",
    "fill_df = pd.read_csv(\"./fill_df.csv\")"
   ]
  },
  {
   "cell_type": "code",
   "execution_count": 14,
   "id": "510c45a9-9ca5-4c20-a0fb-ea85218bb292",
   "metadata": {},
   "outputs": [
    {
     "data": {
      "text/plain": [
       "3200"
      ]
     },
     "execution_count": 14,
     "metadata": {},
     "output_type": "execute_result"
    }
   ],
   "source": [
    "x_data = StandardScaler().fit_transform(fill_df.loc[:,important_columns_total])\n",
    "X_train_pca,X_valid_pca,y_train_pca,y_valid_pca = train_test_split(fill_df.loc[:,important_columns_total].values,fill_df.iloc[:,-1].values,test_size=0.2,random_state=666)\n",
    "\n",
    "y_valid_pca.shape[0]\n"
   ]
  },
  {
   "cell_type": "code",
   "execution_count": 17,
   "id": "e31744d9-9acf-4bc3-b679-b654ed36e111",
   "metadata": {},
   "outputs": [],
   "source": [
    "from sklearn import svm\n",
    "import xgboost as xgb\n",
    "def get_ExtraTree_accuracy(X_train,X_valid,y_train,y_valid):\n",
    "    \"\"\"\n",
    "        定义函数，计算smote之后，测试原数据的准确率\n",
    "    \"\"\"\n",
    "    # log_clf = LogisticRegression(C=1e5,class_weight='balanced',n_jobs=-1,random_state=666)\n",
    "    # clf3 = log_clf.fit(X_train,y_train)\n",
    "    # y_pred3 = clf3.predict(X_valid)\n",
    "    # y_pred3_prob = clf3.predict_proba(X_valid)[:,1]\n",
    "    \n",
    "    # extraTree_clf2 = ExtraTreesClassifier(max_depth=None,min_samples_split=2,n_estimators=150)\n",
    "    # clf3 = extraTree_clf2.fit(X_train,y_train)\n",
    "    # y_pred1 = clf3.predict(X_valid)\n",
    "    # y_pred1_prob = clf3.predict_proba(X_valid)[:,1]\n",
    "\n",
    "    # gauss_clf = GaussianNB()\n",
    "    # clf3 = gauss_clf.fit(X_train,y_train)\n",
    "    # y_pred3 = clf3.predict(X_valid)\n",
    "    # y_pred3_prob = clf3.predict_proba(X_valid)[:,1]\n",
    "\n",
    "    # randforest_clf = RandomForestClassifier(n_estimators=200,max_depth=20,min_samples_split=5,class_weight='balanced')\n",
    "    # clf1 = randforest_clf.fit(X_train,y_train)\n",
    "    # y_pred1 = clf1.predict(X_valid)\n",
    "    # y_pred1_prob = clf1.predict_proba(X_valid)\n",
    "\n",
    "    # gradientBoost_clf_create2 = GradientBoostingClassifier(n_estimators=100,max_depth=8,min_samples_split=4,learning_rate=0.01)\n",
    "    # clf3 = gradientBoost_clf_create2.fit(X_train,y_train)\n",
    "    # y_pred3 = clf3.predict(X_valid)\n",
    "    # y_pred3_prob = clf3.predict_proba(X_valid)[:,1]\n",
    "\n",
    "    # xgb_clf = xgb.XGBClassifier(objective='binary:logistic',n_estimators=300,max_depth=5, learning_rate=0.1)\n",
    "    # xgb_clf = xgb.XGBClassifier(objective='binary:logistic',n_estimators=300,reg_alpha=0.5,reg_lambda=1.0,max_depth=5, learning_rate=0.1)\n",
    "    # clf3 = xgb_clf.fit(X_train,y_train)\n",
    "    # y_pred3 = clf3.predict(X_valid)\n",
    "    # y_pred3_prob = clf3.predict_proba(X_valid)[:,1]\n",
    "\n",
    "    svm_clf = svm.SVC(kernel='linear', C=1, decision_function_shape='ovr',probability=True)  # 这里使用线性核函数\n",
    "    clf2 = svm_clf.fit(X_train, y_train)\n",
    "    y_pred1 = clf2.predict(X_valid)\n",
    "    y_pred1_prob = clf2.predict_proba(X_valid)\n",
    "\n",
    "\n",
    "    # def distribute_weight(array1, array2):\n",
    "    # results = []\n",
    "    # for index in range(y_pred1_prob.shape[0]):\n",
    "    #     list1 = y_pred1_prob[index]  # 拿到每个一维数组\n",
    "    #     list2 = y_pred2_prob[index]\n",
    "    #     not_fraud_rate = list1[0]*0.5 + list2[0]*0.5\n",
    "    #     fraud_rate = 1 - not_fraud_rate\n",
    "    #     # fraud_rate = list1[1]*0.5 + list2[1]*0.5\n",
    "    #     if fraud_rate > not_fraud_rate:\n",
    "    #         results.append(1)\n",
    "    #     else:\n",
    "    #         results.append(0)\n",
    "            \n",
    "    # # # return np.array(results)\n",
    "    # results = np.array(results)\n",
    "\n",
    "    dismatch_X = []\n",
    "    dismatch_y = []\n",
    "    for index in range(y_valid.shape[0]):\n",
    "        if(y_valid[index] != y_pred1[index]):\n",
    "            dismatch_X.append(X_valid[index])\n",
    "            dismatch_y.append(y_valid[index])\n",
    "            \n",
    "            # print(y_pred3_prob[index])\n",
    "\n",
    "    \n",
    "            # print(X_valid[index])\n",
    "    # print(dismatch_array)\n",
    "    \n",
    "    # print(\"\\tBrier: %1.5f\" % (brier_score_loss(y_valid,y_pred3)))\n",
    "    # print(\"\\tPrecision: %1.5f\" % precision_score(y_valid, y_pred3)) \n",
    "    # print(\"\\tRecall: %1.5f\" % recall_score(y_valid, y_pred3))  \n",
    "    # print(\"\\tF1: %1.5f\" % f1_score(y_valid, y_pred3)) \n",
    "    # print(\"\\tauc: %1.5f\" % roc_auc_score(y_valid, y_pred3_prob))\n",
    "    # print(\"\\tAccuracy: %1.5f\\n\" % accuracy_score(y_valid, results))\n",
    "    print(\"\\tAccuracy: %1.5f\\n\" % accuracy_score(y_valid, y_pred1))\n",
    "    return dismatch_X,dismatch_y"
   ]
  },
  {
   "cell_type": "markdown",
   "id": "e03ecae0-ba01-4f0f-8943-dad3f06aa89f",
   "metadata": {},
   "source": [
    "#### 原始24个特征使用smote怎么样"
   ]
  },
  {
   "cell_type": "code",
   "execution_count": 18,
   "id": "bf5502da-de73-4f8f-b3c0-dbe7a6731abd",
   "metadata": {},
   "outputs": [
    {
     "name": "stdout",
     "output_type": "stream",
     "text": [
      "(24322, 24) (24322,)\n"
     ]
    }
   ],
   "source": [
    "from imblearn.over_sampling import SMOTE\n",
    "from imblearn.under_sampling import RandomUnderSampler\n",
    "from imblearn.pipeline import Pipeline\n",
    "sm = SMOTE(random_state=666)\n",
    "X_res, y_res = sm.fit_resample(X_train_pca, y_train_pca)     #即完成了合成\n",
    "print(X_res.shape, y_res.shape)"
   ]
  },
  {
   "cell_type": "markdown",
   "id": "df5a4159-2e35-451a-9d52-849929bd50b7",
   "metadata": {},
   "source": [
    "#### 最原始24个特征测试"
   ]
  },
  {
   "cell_type": "code",
   "execution_count": null,
   "id": "6b201163-6f04-4ae2-935a-0d348aee20d6",
   "metadata": {},
   "outputs": [],
   "source": [
    "dismatch_X,dismatch_y = get_ExtraTree_accuracy(X_train_pca,X_valid_pca,y_train_pca,y_valid_pca)"
   ]
  },
  {
   "cell_type": "code",
   "execution_count": null,
   "id": "659936ea-d292-4d31-a52a-af023f442cb5",
   "metadata": {},
   "outputs": [],
   "source": [
    "dismatch_X = np.array(dismatch_X)\n",
    "dismatch_y = np.array(dismatch_y)\n"
   ]
  },
  {
   "cell_type": "code",
   "execution_count": null,
   "id": "b48a6dc7-7287-437f-8def-b2b570c95df7",
   "metadata": {},
   "outputs": [],
   "source": [
    "dismatch_X.shape,dismatch_y[ dismatch_y == 0 ].shape,dismatch_y[dismatch_y == 1 ].shape"
   ]
  },
  {
   "cell_type": "code",
   "execution_count": null,
   "id": "c9ec12c3-46ae-486d-833c-58abdf70ea03",
   "metadata": {},
   "outputs": [],
   "source": [
    "y_valid_pca[ y_valid_pca == 0].shape,y_valid_pca[ y_valid_pca == 1].shape"
   ]
  },
  {
   "cell_type": "code",
   "execution_count": null,
   "id": "d2f367cf-927f-4d6a-b85a-50bbe11bd16e",
   "metadata": {},
   "outputs": [],
   "source": [
    "# xgboost svm extraforest neural_net  识别0好， randomforest 识别1较好"
   ]
  },
  {
   "cell_type": "markdown",
   "id": "342e98fe-72cb-499b-adf8-1a95738943c4",
   "metadata": {},
   "source": [
    "### 投票"
   ]
  },
  {
   "cell_type": "code",
   "execution_count": 387,
   "id": "ffa1194f-0a2a-4311-9adf-c5dfd9c0876d",
   "metadata": {},
   "outputs": [
    {
     "name": "stdout",
     "output_type": "stream",
     "text": [
      "\tAccuracy: 0.96406\n",
      "\n"
     ]
    }
   ],
   "source": [
    "from sklearn.ensemble import VotingClassifier\n",
    "from sklearn.linear_model import LogisticRegression\n",
    "from sklearn.svm import SVC\n",
    "from sklearn.ensemble import RandomForestClassifier\n",
    "from sklearn.metrics import accuracy_score\n",
    "\n",
    "# 创建单独的分类器\n",
    "# clf1 = ExtraTreesClassifier(random_state=666)\n",
    "clf2 = svm_clf = svm.SVC(kernel='linear', C=1, decision_function_shape='ovr',probability=True)  # 需设置probability=True以启用软投票\n",
    "clf3 = RandomForestClassifier(n_estimators=100,max_depth=5,min_samples_split=5,class_weight='balanced')\n",
    "\n",
    "# 创建Voting Classifier\n",
    "voting_clf = VotingClassifier(estimators=[('svm', clf2), ('rf', clf3)], voting='soft')  # 或者voting='hard'\n",
    "\n",
    "# 在训练数据上训练模型\n",
    "voting_clf.fit(X_res, y_res)\n",
    "\n",
    "# 在验证集上进行预测\n",
    "y_pred_vote = voting_clf.predict(X_valid_pca)\n",
    "\n",
    "# 计算准确度\n",
    "accuracy = accuracy_score(y_valid_pca, y_pred_vote)\n",
    "print(\"\\tAccuracy: %1.5f\\n\" % accuracy)"
   ]
  },
  {
   "cell_type": "markdown",
   "id": "64d45161-a9d7-4c8d-b0f8-bc4ab96d71a3",
   "metadata": {},
   "source": [
    "### 神经网络"
   ]
  },
  {
   "cell_type": "code",
   "execution_count": 247,
   "id": "b2509f7d-c037-4a2c-bc97-4a280a9921f8",
   "metadata": {},
   "outputs": [],
   "source": [
    "from keras.models import Sequential\n",
    "from keras.layers import Dense\n",
    "from sklearn.metrics import accuracy_score\n",
    "import numpy as np\n",
    "\n",
    "def get_neural_network_accuracy(X_train, X_valid, y_train, y_valid, class_weight=None):\n",
    "    \"\"\"\n",
    "    使用神经网络模型进行二分类，并返回不匹配的数据点及其标签\n",
    "\n",
    "    Parameters:\n",
    "    X_train (array-like): 训练数据的特征\n",
    "    X_valid (array-like): 验证数据的特征\n",
    "    y_train (array-like): 训练数据的标签\n",
    "    y_valid (array-like): 验证数据的标签\n",
    "    class_weight (dict): 类别权重字典，可选参数\n",
    "\n",
    "    Returns:\n",
    "    dismatch_X (list): 不匹配的特征数据点\n",
    "    dismatch_y (list): 不匹配的标签数据点\n",
    "    \"\"\"\n",
    "    # 创建神经网络模型\n",
    "    model = Sequential()\n",
    "    model.add(Dense(12, input_dim=X_train.shape[1], activation='relu'))\n",
    "    model.add(Dense(8, activation='relu'))\n",
    "    model.add(Dense(1, activation='sigmoid'))\n",
    "    model.compile(loss='binary_crossentropy', optimizer='adam', metrics=['accuracy'])\n",
    "    \n",
    "    # 训练神经网络模型，使用类别权重（如果提供）\n",
    "    if class_weight:\n",
    "        model.fit(X_train, y_train, epochs=150, batch_size=10, verbose=0, class_weight=class_weight)\n",
    "    else:\n",
    "        model.fit(X_train, y_train, epochs=150, batch_size=10, verbose=0)\n",
    "    \n",
    "    # 在验证集上进行预测\n",
    "    y_pred = np.round(model.predict(X_valid)).astype(int)\n",
    "    \n",
    "    # 寻找不匹配的数据点\n",
    "    dismatch_X = []\n",
    "    dismatch_y = []\n",
    "    for index in range(y_valid.shape[0]):\n",
    "        if y_valid[index] != y_pred[index]:\n",
    "            dismatch_X.append(X_valid[index])\n",
    "            dismatch_y.append(y_valid[index])\n",
    "    \n",
    "    # 计算准确度并打印\n",
    "    accuracy = accuracy_score(y_valid, y_pred)\n",
    "    print(\"\\tAccuracy: %1.5f\\n\" % accuracy)\n",
    "    \n",
    "    return dismatch_X, dismatch_y\n"
   ]
  },
  {
   "cell_type": "code",
   "execution_count": 248,
   "id": "11c9300b-3ae1-4ca6-a188-17dfdb7812ea",
   "metadata": {},
   "outputs": [
    {
     "name": "stdout",
     "output_type": "stream",
     "text": [
      "\u001b[1m100/100\u001b[0m \u001b[32m━━━━━━━━━━━━━━━━━━━━\u001b[0m\u001b[37m\u001b[0m \u001b[1m0s\u001b[0m 768us/step\n",
      "\tAccuracy: 0.96031\n",
      "\n"
     ]
    }
   ],
   "source": [
    "dismatch_net_X,dismatch_net_y = get_neural_network_accuracy(X_train_pca,X_valid_pca,y_train_pca,y_valid_pca)"
   ]
  },
  {
   "cell_type": "code",
   "execution_count": 275,
   "id": "5bc893cc-d124-44bd-b5b9-9be46dd18e6c",
   "metadata": {},
   "outputs": [],
   "source": [
    "from sklearn.ensemble import GradientBoostingClassifier\n",
    "from sklearn.metrics import accuracy_score\n",
    "import numpy as np\n",
    "\n",
    "def get_gradient_boosting_accuracy_with_mismatch(X_train, X_valid, y_train, y_valid):\n",
    "    # 创建梯度提升树分类器\n",
    "    clf = GradientBoostingClassifier(n_estimators=100, learning_rate=1.0, max_depth=1, random_state=0)\n",
    "    # 在训练数据上训练模型\n",
    "    clf.fit(X_train, y_train)\n",
    "    # 在验证集上进行预测\n",
    "    y_pred = clf.predict(X_valid)\n",
    "    print(type(clf.predict_proba(X_valid)[0]))\n",
    "\n",
    "    # 计算准确度并打印\n",
    "    accuracy = accuracy_score(y_valid, y_pred)\n",
    "    print(\"\\tAccuracy: %1.5f\\n\" % accuracy)\n",
    "\n",
    "    # 寻找不匹配的数据点\n",
    "    dismatch_X = []\n",
    "    dismatch_y = []\n",
    "    for index in range(y_valid.shape[0]):\n",
    "        if y_valid[index] != y_pred[index]:\n",
    "            dismatch_X.append(X_valid[index])\n",
    "            dismatch_y.append(y_valid[index])\n",
    "\n",
    "    return dismatch_X, dismatch_y\n"
   ]
  },
  {
   "cell_type": "code",
   "execution_count": 276,
   "id": "efba548e-214d-4859-9377-b81cdc0b89a6",
   "metadata": {},
   "outputs": [
    {
     "name": "stdout",
     "output_type": "stream",
     "text": [
      "<class 'numpy.ndarray'>\n",
      "\tAccuracy: 0.95219\n",
      "\n"
     ]
    }
   ],
   "source": [
    "dismatch_boost_X,dismatch_boost_y = get_gradient_boosting_accuracy_with_mismatch(X_train_pca,X_valid_pca,y_train_pca,y_valid_pca)"
   ]
  },
  {
   "cell_type": "markdown",
   "id": "862a55e0-3aae-4248-9a89-3f6ecf14e690",
   "metadata": {},
   "source": [
    "#### smote24个特征，原数据测试"
   ]
  },
  {
   "cell_type": "code",
   "execution_count": 270,
   "id": "51301323-4429-4a29-bc84-2f54fe6d6d86",
   "metadata": {},
   "outputs": [
    {
     "name": "stdout",
     "output_type": "stream",
     "text": [
      "\tAccuracy: 0.94656\n",
      "\n"
     ]
    }
   ],
   "source": [
    "get_ExtraTree_accuracy(X_res,X_valid_pca,y_res,y_valid_pca)"
   ]
  },
  {
   "cell_type": "markdown",
   "id": "bd46fa7b-6f42-4298-a194-6bb3239b2114",
   "metadata": {},
   "source": [
    "### 直接pca效果没显著变化"
   ]
  },
  {
   "cell_type": "code",
   "execution_count": 256,
   "id": "560ec81d-5507-42f8-b30b-4fd125637d60",
   "metadata": {},
   "outputs": [
    {
     "name": "stdout",
     "output_type": "stream",
     "text": [
      "--------------- 2\n",
      "\tAccuracy: 0.95500\n",
      "\n",
      "\tAccuracy: 0.83875\n",
      "\n",
      "--------------- 3\n",
      "\tAccuracy: 0.95688\n",
      "\n",
      "\tAccuracy: 0.89219\n",
      "\n",
      "--------------- 4\n",
      "\tAccuracy: 0.95688\n",
      "\n",
      "\tAccuracy: 0.91812\n",
      "\n",
      "--------------- 5\n",
      "\tAccuracy: 0.95781\n",
      "\n",
      "\tAccuracy: 0.92188\n",
      "\n",
      "--------------- 6\n",
      "\tAccuracy: 0.95906\n",
      "\n",
      "\tAccuracy: 0.93500\n",
      "\n",
      "--------------- 7\n",
      "\tAccuracy: 0.96281\n",
      "\n",
      "\tAccuracy: 0.94188\n",
      "\n",
      "--------------- 8\n",
      "\tAccuracy: 0.96188\n",
      "\n",
      "\tAccuracy: 0.94281\n",
      "\n",
      "--------------- 9\n",
      "\tAccuracy: 0.96219\n",
      "\n",
      "\tAccuracy: 0.94406\n",
      "\n",
      "--------------- 10\n",
      "\tAccuracy: 0.96281\n",
      "\n",
      "\tAccuracy: 0.95250\n",
      "\n",
      "--------------- 11\n",
      "\tAccuracy: 0.96281\n",
      "\n",
      "\tAccuracy: 0.95063\n",
      "\n",
      "--------------- 12\n",
      "\tAccuracy: 0.96406\n",
      "\n",
      "\tAccuracy: 0.95250\n",
      "\n",
      "--------------- 13\n",
      "\tAccuracy: 0.96375\n",
      "\n",
      "\tAccuracy: 0.95437\n",
      "\n",
      "--------------- 14\n",
      "\tAccuracy: 0.96375\n",
      "\n",
      "\tAccuracy: 0.95250\n",
      "\n",
      "--------------- 15\n",
      "\tAccuracy: 0.96313\n",
      "\n",
      "\tAccuracy: 0.95437\n",
      "\n",
      "--------------- 16\n",
      "\tAccuracy: 0.96406\n",
      "\n",
      "\tAccuracy: 0.95562\n",
      "\n",
      "--------------- 17\n",
      "\tAccuracy: 0.96406\n",
      "\n",
      "\tAccuracy: 0.95625\n",
      "\n",
      "--------------- 18\n",
      "\tAccuracy: 0.96406\n",
      "\n",
      "\tAccuracy: 0.95625\n",
      "\n",
      "--------------- 19\n",
      "\tAccuracy: 0.96281\n",
      "\n",
      "\tAccuracy: 0.95688\n",
      "\n",
      "--------------- 20\n",
      "\tAccuracy: 0.96406\n",
      "\n",
      "\tAccuracy: 0.95750\n",
      "\n",
      "--------------- 21\n",
      "\tAccuracy: 0.96313\n",
      "\n",
      "\tAccuracy: 0.95906\n",
      "\n",
      "--------------- 22\n",
      "\tAccuracy: 0.96281\n",
      "\n",
      "\tAccuracy: 0.96062\n",
      "\n",
      "--------------- 23\n",
      "\tAccuracy: 0.96375\n",
      "\n",
      "\tAccuracy: 0.95688\n",
      "\n",
      "--------------- 24\n",
      "\tAccuracy: 0.96344\n",
      "\n",
      "\tAccuracy: 0.95750\n",
      "\n"
     ]
    }
   ],
   "source": [
    "\n",
    "for feature_num in range(2,25):\n",
    "    pca_clf = PCA(n_components=feature_num).fit(X_train_pca)\n",
    "    X_train_pca_after = pca_clf.transform(X_train_pca)\n",
    "    X_valid_pca_after = pca_clf.transform(X_valid_pca)\n",
    "    #somte增加数据\n",
    "    sm = SMOTE(random_state=666)\n",
    "    X_res, y_res = sm.fit_resample(X_train_pca_after, y_train_pca)\n",
    "    print(\"---------------\",feature_num)\n",
    "    get_ExtraTree_accuracy(X_train_pca_after,X_valid_pca_after,y_train_pca,y_valid_pca)\n",
    "    get_ExtraTree_accuracy(X_res,X_valid_pca_after,y_res,y_valid_pca)\n",
    "\n"
   ]
  },
  {
   "cell_type": "code",
   "execution_count": 247,
   "id": "a0f4dede-9c3c-4e6a-bb45-4590f8aeedcf",
   "metadata": {},
   "outputs": [
    {
     "name": "stdout",
     "output_type": "stream",
     "text": [
      "\tBrier: 0.00651\n",
      "\tPrecision: 0.99742\n",
      "\tRecall: 0.79794\n",
      "\tF1: 0.88660\n",
      "\tauc: 0.98976\n",
      "\tAccuracy: 0.99349\n",
      "\n"
     ]
    }
   ],
   "source": [
    "important_columns_first = ['基本统筹基金支付金额_SUM','本次审批金额_SUM','药品费申报金额_SUM','药品费发生金额_SUM',\n",
    "                     '月药品金额_MAX','月统筹金额_AVG','治疗费申报金额_SUM','ALL_SUM']\n",
    "# 月药品金额_MAX(医院_药品_MAX和这个差不多，要稍微差一点)\n",
    "\n",
    "important_columns_second = ['统筹支付金额_SUM','月就诊次数_MAX','就诊次数_SUM','起付标准以上自负比例金额_SUM',\n",
    "                            '可用账户报销金额_SUM','非账户支付金额_SUM','医院_统筹金_AVG',\n",
    "                            '月就诊天数_MAX','月就诊天数_AVG','月统筹金额_MAX']\n",
    "important_columns_third = ['医院_统筹金_MAX','贵重药品发生金额_SUM','医疗救助个人按比例负担金额_SUM',\n",
    "                           '医疗救助医院申请_SUM','个人账户金额_SUM','一天去两家医院的天数']\n",
    "\n",
    "important_columns_total = important_columns_first + important_columns_second + important_columns_third\n",
    "\n",
    "\n",
    "concat_res_ma = pd.read_csv(\"D:\\\\AI_Code\\\\Feature_Engineering\\\\concat_res_ma.csv\")\n",
    "X = concat_res_ma[important_columns_total].values\n",
    "y = concat_res_ma.iloc[:,-2].values\n",
    "X_train_important,X_valid_important,y_train_important,y_valid_important = train_test_split(X,y,test_size=0.2,random_state=66)\n",
    "\n",
    "fill_df_ma = pd.read_csv(\"D:\\\\AI_Code\\\\Feature_Engineering\\\\fill_df_ma.csv\")\n",
    "X1 = fill_df_ma[important_columns_total].values\n",
    "y1 = fill_df_ma.iloc[:,-2].values\n",
    "\n",
    "#使用smote的数据构建模型，原数据测试\n",
    "extraTree_clf4 = ExtraTreesClassifier(random_state=666)\n",
    "clf4 = extraTree_clf4.fit(X_train_important,y_train_important)\n",
    "y_pred4 = clf4.predict(X1)\n",
    "y_pred4_prob = clf4.predict_proba(X1)[:,1]\n",
    "\n",
    "print(\"\\tBrier: %1.5f\" % (brier_score_loss(y1,y_pred4)))\n",
    "print(\"\\tPrecision: %1.5f\" % precision_score(y1, y_pred4))\n",
    "print(\"\\tRecall: %1.5f\" % recall_score(y1, y_pred4))\n",
    "print(\"\\tF1: %1.5f\" % f1_score(y1, y_pred4))\n",
    "print(\"\\tauc: %1.5f\" % roc_auc_score(y1, y_pred4_prob))\n",
    "print(\"\\tAccuracy: %1.5f\\n\" % accuracy_score(y1, y_pred4))\n"
   ]
  },
  {
   "cell_type": "code",
   "execution_count": null,
   "id": "819c8d5a-846d-431f-9b33-3234899e519c",
   "metadata": {},
   "outputs": [],
   "source": []
  },
  {
   "cell_type": "code",
   "execution_count": null,
   "id": "8e2a5231-ba66-4974-8f73-f6637896a4fc",
   "metadata": {},
   "outputs": [],
   "source": []
  },
  {
   "cell_type": "code",
   "execution_count": null,
   "id": "5ffe856f-c4f0-4f13-90dc-c103e5d457b7",
   "metadata": {},
   "outputs": [],
   "source": []
  }
 ],
 "metadata": {
  "kernelspec": {
   "display_name": "base_as_kernal",
   "language": "python",
   "name": "base"
  },
  "language_info": {
   "codemirror_mode": {
    "name": "ipython",
    "version": 3
   },
   "file_extension": ".py",
   "mimetype": "text/x-python",
   "name": "python",
   "nbconvert_exporter": "python",
   "pygments_lexer": "ipython3",
   "version": "3.11.5"
  }
 },
 "nbformat": 4,
 "nbformat_minor": 5
}
